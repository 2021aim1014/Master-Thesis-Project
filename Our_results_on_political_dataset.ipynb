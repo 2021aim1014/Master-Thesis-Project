{
  "cells": [
    {
      "cell_type": "markdown",
      "metadata": {
        "id": "view-in-github",
        "colab_type": "text"
      },
      "source": [
        "<a href=\"https://colab.research.google.com/github/2021aim1014/Master-Thesis-Project/blob/main/Our_results_on_political_dataset.ipynb\" target=\"_parent\"><img src=\"https://colab.research.google.com/assets/colab-badge.svg\" alt=\"Open In Colab\"/></a>"
      ]
    },
    {
      "cell_type": "code",
      "execution_count": null,
      "metadata": {
        "id": "XWR6yVB5rJqr"
      },
      "outputs": [],
      "source": [
        "# %pip install poutyne          # to install the Poutyne library\n",
        "# %pip install wget             # to install the wget library in order to download data\n",
        "# %pip install opencv-python "
      ]
    },
    {
      "cell_type": "code",
      "execution_count": null,
      "metadata": {
        "id": "gUah9ARPIVY2"
      },
      "outputs": [],
      "source": [
        "import os\n",
        "import matplotlib.pyplot as plt\n",
        "import numpy as np\n",
        "import natsort\n",
        "import pandas as pd \n",
        "import scipy\n",
        "import shutil\n",
        "import cv2\n",
        "import math\n",
        "import random\n",
        "import torch\n",
        "from torch import nn, optim\n",
        "from torchvision import datasets, transforms\n",
        "import keras,os\n",
        "from keras.models import Sequential\n",
        "from keras.layers import Dense, Conv2D, MaxPool2D , Flatten\n",
        "from keras.preprocessing.image import ImageDataGenerator\n",
        "import numpy as np\n",
        "# import wget\n",
        "import zipfile\n",
        "\n",
        "from tensorflow.keras.utils  import plot_model\n",
        "from keras.models import Model\n",
        "from keras.layers import Input, Dense, Flatten, ZeroPadding2D\n",
        "from keras.layers.convolutional import Conv2D\n",
        "from keras.layers.pooling import MaxPooling2D\n",
        "from sklearn.preprocessing import LabelEncoder, OneHotEncoder\n",
        "\n",
        "import tensorflow as tf\n",
        "\n",
        "from tensorflow.keras import datasets, layers, models\n",
        "\n",
        "from numpy import array\n",
        "from numpy import argmax"
      ]
    },
    {
      "cell_type": "markdown",
      "metadata": {
        "id": "FYevEwXJN0WV"
      },
      "source": [
        "Load image dataset"
      ]
    },
    {
      "cell_type": "code",
      "execution_count": null,
      "metadata": {
        "id": "gBqbfWiAQC9n"
      },
      "outputs": [],
      "source": [
        "def load_dataset(image_folder, training_df):                                                              # New image dimensions\n",
        "  new_w,new_h = 28,28                                                               # New image dimensions\n",
        "\n",
        "  trainingImages = []\n",
        "  trainingLabels = []\n",
        "  train_set_size, _ = training_df.shape\n",
        "  i=0\n",
        "  for i in range(train_set_size):\n",
        "    filePath = image_folder+training_df['image_id'][i]\n",
        "    frame    = cv2.imread(filePath)/255\n",
        "    resize   = cv2.resize(frame,(new_w,new_h))                                      # Normalizing\n",
        "    trainingImages.append(resize)\n",
        "    trainingLabels.append(training_df['Smiling'][i])\n",
        "    if(i%10000 == 0):\n",
        "      print(i,\"images loaded\")\n",
        "\n",
        "\n",
        "  print(\"Training images loaded: \",i+1,\"images loaded\\n------------------------------------------------------------------------------------\\n\")\n",
        "  trainingImages   = np.asarray(trainingImages)\n",
        "  return (trainingImages, trainingLabels)"
      ]
    },
    {
      "cell_type": "markdown",
      "metadata": {
        "id": "9v97U1Fcchbr"
      },
      "source": [
        "validation_df"
      ]
    },
    {
      "cell_type": "markdown",
      "metadata": {
        "id": "quNKE2R4VbHg"
      },
      "source": [
        "### Normal Convolutional Neural Network"
      ]
    },
    {
      "cell_type": "code",
      "execution_count": null,
      "metadata": {
        "id": "CEAN8xTUJMZV"
      },
      "outputs": [],
      "source": [
        "def one_hot_encoder(trainingLabels):\n",
        "  trainingLabels   = np.asarray(trainingLabels)\n",
        "  \n",
        "  tr_label_encoder = LabelEncoder()\n",
        "  tr_integer_encoded = tr_label_encoder.fit_transform(trainingLabels)\n",
        "\n",
        "  tr_onehot_encoder = OneHotEncoder(sparse=False)\n",
        "  tr_integer_encoded = tr_integer_encoded.reshape(len(tr_integer_encoded), 1)\n",
        "  tr_onehot_encoded = tr_onehot_encoder.fit_transform(tr_integer_encoded)\n",
        "  tr_onehot_encoded = tr_onehot_encoded.astype(int)\n",
        "  return tr_onehot_encoded"
      ]
    },
    {
      "cell_type": "code",
      "execution_count": null,
      "metadata": {
        "colab": {
          "base_uri": "https://localhost:8080/"
        },
        "id": "dpdKaPyFFlVD",
        "outputId": "7eb418a7-be69-4078-aef4-97df11254fe0"
      },
      "outputs": [
        {
          "output_type": "stream",
          "name": "stdout",
          "text": [
            "Mounted at /content/drive\n"
          ]
        }
      ],
      "source": [
        "import os\n",
        "from google.colab import drive\n",
        "drive.mount('/content/drive')\n",
        "path = '/content/drive/MyDrive/MTP_dataset/G500B500/'"
      ]
    },
    {
      "cell_type": "code",
      "execution_count": null,
      "metadata": {
        "id": "yjwb08fJJIyz"
      },
      "outputs": [],
      "source": [
        "df = pd.read_csv('/content/drive/MyDrive/MTP_dataset/label_result.csv')"
      ]
    },
    {
      "cell_type": "code",
      "execution_count": null,
      "metadata": {
        "id": "35E8SK-CJUm5"
      },
      "outputs": [],
      "source": [
        "df.replace(to_replace='green', value=0, inplace=True)\n",
        "df.replace(to_replace='blue', value=1, inplace=True)"
      ]
    },
    {
      "cell_type": "code",
      "execution_count": null,
      "metadata": {
        "id": "pBL17hU-F0rK"
      },
      "outputs": [],
      "source": [
        "from sklearn.model_selection import train_test_split\n",
        "train, test = train_test_split(df, test_size=0.3)"
      ]
    },
    {
      "cell_type": "code",
      "execution_count": null,
      "metadata": {
        "id": "-1tZ8flmK2Vf"
      },
      "outputs": [],
      "source": [
        "true_labels = np.asarray(train['publisher'])\n",
        "human_labels = np.asarray(train['human'])\n",
        "imagePath = np.asarray(train['file'])"
      ]
    },
    {
      "cell_type": "code",
      "execution_count": null,
      "metadata": {
        "id": "fF1ae2jWF3Pi"
      },
      "outputs": [],
      "source": [
        "# Train Image Loader\n",
        "new_w,new_h = 28,28                                                               # New image dimensions\n",
        "\n",
        "trainingImages = []\n",
        "trainingLabels = []\n",
        "human_training_labels = []\n",
        "train_set_size, _ = train.shape\n",
        "i=0\n",
        "for i in range(train_set_size):\n",
        "  if(i%100 == 0): print(i)\n",
        "  if(true_labels[i] == 1):\n",
        "    filePath = path+'Blue500/'+imagePath[i]\n",
        "  else:\n",
        "    filePath = path+'Green500/'+imagePath[i]\n",
        "  frame    = cv2.imread(filePath)/255\n",
        "  resize   = cv2.resize(frame,(new_w,new_h))                                      # Normalizing\n",
        "  trainingImages.append(resize)\n",
        "  trainingLabels.append(true_labels[i])\n",
        "  human_training_labels.append(human_labels[i])"
      ]
    },
    {
      "cell_type": "code",
      "source": [
        "trainingImages   = np.asarray(trainingImages)\n",
        "trainingLabels   = np.asarray(trainingLabels)\n",
        "human_training_labels   = np.asarray(human_training_labels)"
      ],
      "metadata": {
        "id": "qs1CIWr-ycQl"
      },
      "execution_count": null,
      "outputs": []
    },
    {
      "cell_type": "code",
      "execution_count": null,
      "metadata": {
        "id": "wehysO5fGpcU",
        "colab": {
          "base_uri": "https://localhost:8080/"
        },
        "outputId": "6ffe00be-363f-410c-e58e-c8cd364e37c9"
      },
      "outputs": [
        {
          "output_type": "execute_result",
          "data": {
            "text/plain": [
              "(910, 28, 28, 3)"
            ]
          },
          "metadata": {},
          "execution_count": 11
        }
      ],
      "source": [
        "trainingImages.shape"
      ]
    },
    {
      "cell_type": "code",
      "execution_count": null,
      "metadata": {
        "id": "DN_mvpXRF7TP",
        "colab": {
          "base_uri": "https://localhost:8080/"
        },
        "outputId": "7b2ab1e2-d578-4d60-97dd-b9d7ddfcc45a"
      },
      "outputs": [
        {
          "output_type": "stream",
          "name": "stdout",
          "text": [
            "0\n",
            "100\n",
            "200\n",
            "300\n"
          ]
        }
      ],
      "source": [
        "# Test Image Loader\n",
        "true_labels = np.asarray(test['publisher'])\n",
        "human_labels = np.asarray(test['human'])\n",
        "imagePath = np.asarray(test['file'])\n",
        "new_w,new_h = 28,28                                                               # New image dimensions\n",
        "\n",
        "testImages = []\n",
        "testLabels = []\n",
        "human_test_labels = []\n",
        "\n",
        "size, _ = test.shape\n",
        "i=0\n",
        "for i in range(size):\n",
        "  if(i%100 == 0):\n",
        "     print(i)\n",
        "  if(true_labels[i] == 1):\n",
        "    filePath = path+'Blue500/'+imagePath[i]\n",
        "  else:\n",
        "    filePath = path+'Green500/'+imagePath[i]\n",
        "  frame    = cv2.imread(filePath)/255\n",
        "  resize   = cv2.resize(frame,(new_w,new_h))                                      # Normalizing\n",
        "  testImages.append(resize)\n",
        "  testLabels.append(true_labels[i])\n",
        "  human_test_labels.append(human_labels[i])\n",
        "\n"
      ]
    },
    {
      "cell_type": "code",
      "source": [
        "testImages   = np.asarray(testImages)\n",
        "testLabels   = np.asarray(testLabels)\n",
        "human_test_labels   = np.asarray(human_test_labels)"
      ],
      "metadata": {
        "id": "nis3WWg8yfR0"
      },
      "execution_count": null,
      "outputs": []
    },
    {
      "cell_type": "code",
      "execution_count": null,
      "metadata": {
        "id": "dllnJ1gmoADn"
      },
      "outputs": [],
      "source": [
        "# One hot encoding\n",
        "tr_onehot_encoded = one_hot_encoder(trainingLabels)\n",
        "test_onehot_encoded = one_hot_encoder(testLabels)"
      ]
    },
    {
      "cell_type": "code",
      "execution_count": null,
      "metadata": {
        "id": "Sfd-OnvsLLws"
      },
      "outputs": [],
      "source": [
        "# ===============================================================================\n",
        "#   LeNet\n",
        "# ===============================================================================\n",
        "\n",
        "model = Sequential()\n",
        "model.add(Conv2D(input_shape=(28,28,3),filters=6,kernel_size=(5,5),strides=(1,1),padding=\"same\", activation=\"tanh\"))\n",
        "model.add(layers.AveragePooling2D(pool_size=(2,2),strides=(1,1),padding=\"valid\"))\n",
        "model.add(Conv2D(filters=16, kernel_size=(5,5),strides=(1,1), padding=\"valid\", activation=\"tanh\"))\n",
        "model.add(layers.AveragePooling2D(pool_size=(2,2),strides=(2,2),padding=\"valid\"))\n",
        "model.add(Conv2D(filters=120, kernel_size=(5,5),strides=(1,1), padding=\"valid\", activation=\"tanh\"))\n",
        "model.add(Flatten())\n",
        "model.add(Dense(units=84,activation=\"tanh\"))\n",
        "model.add(Dense(units=2,activation=\"softmax\"))"
      ]
    },
    {
      "cell_type": "code",
      "execution_count": null,
      "metadata": {
        "id": "eCmfFbJOPZaG",
        "colab": {
          "base_uri": "https://localhost:8080/"
        },
        "outputId": "23109024-d61f-47b7-ac0e-a25fb045b8a5"
      },
      "outputs": [
        {
          "output_type": "stream",
          "name": "stdout",
          "text": [
            "205/205 [==============================] - 3s 9ms/step - loss: 0.6452 - accuracy: 0.6361 - mse: 0.2256 - mae: 0.4386 - val_loss: 0.5756 - val_accuracy: 0.7253 - val_mse: 0.1932 - val_mae: 0.4098\n",
            "13/13 [==============================] - 0s 3ms/step\n",
            "13/13 [==============================] - 0s 4ms/step - loss: 0.6062 - accuracy: 0.7136 - mse: 0.2067 - mae: 0.4278\n",
            "accuracy: 71.36%\n"
          ]
        }
      ],
      "source": [
        "# -------------------------------------------------------------------------------------------------------------------------------------\n",
        "# Compiling the model\n",
        "# -------------------------------------------------------------------------------------------------------------------------------------\n",
        "\n",
        "from tensorflow.keras.optimizers import SGD, RMSprop, Adam, Adadelta, Adagrad, Adamax, Nadam\n",
        "\n",
        "model.compile(loss='categorical_crossentropy', optimizer=Adam(learning_rate=0.0001), metrics=['accuracy','mse','mae'])\n",
        "\n",
        "# -------------------------------------------------------------------------------------------------------------------------------------\n",
        "# Training the model on Training data set\n",
        "# -------------------------------------------------------------------------------------------------------------------------------------\n",
        "\n",
        "my_history = model.fit(trainingImages, tr_onehot_encoded, epochs=1, batch_size=4,verbose=1, validation_split=0.1)\n",
        "\n",
        "y_pred = model.predict(testImages)\n",
        "Y_pred = np.argmax(y_pred, axis=1)\n",
        "N = Y_pred.shape[0]\n",
        "y = Y_pred.reshape((N,1))\n",
        "keras.metrics.categorical_accuracy(test_onehot_encoded, y)\n",
        "\n",
        "score = model.evaluate(testImages, test_onehot_encoded, verbose=1)\n",
        "print(\"%s: %.2f%%\" % (model.metrics_names[1], score[1]*100))"
      ]
    },
    {
      "cell_type": "markdown",
      "source": [
        "# Testing"
      ],
      "metadata": {
        "id": "sTOTHSGmv8Zn"
      }
    },
    {
      "cell_type": "markdown",
      "metadata": {
        "id": "8W2oK1uYLzhw"
      },
      "source": [
        "### Test on test dataset"
      ]
    },
    {
      "cell_type": "code",
      "execution_count": null,
      "metadata": {
        "id": "tJVwAHkORnC-",
        "colab": {
          "base_uri": "https://localhost:8080/"
        },
        "outputId": "ee8c37a9-fde8-46de-a6cf-f56df8d14da2"
      },
      "outputs": [
        {
          "output_type": "stream",
          "name": "stdout",
          "text": [
            "13/13 [==============================] - 0s 2ms/step\n",
            "13/13 [==============================] - 0s 4ms/step - loss: 0.6062 - accuracy: 0.7136 - mse: 0.2067 - mae: 0.4278\n",
            "accuracy: 71.36%\n",
            "_________________________________________________________________________________________________________________________________________\n",
            "\n"
          ]
        }
      ],
      "source": [
        "y_pred = model.predict(testImages)\n",
        "Y_pred = np.argmax(y_pred, axis=1)\n",
        "N = Y_pred.shape[0]\n",
        "y = Y_pred.reshape((N,1))\n",
        "keras.metrics.categorical_accuracy(test_onehot_encoded, y)\n",
        "\n",
        "score = model.evaluate(testImages, test_onehot_encoded, verbose=1)\n",
        "print(\"%s: %.2f%%\" % (model.metrics_names[1], score[1]*100))\n",
        "\n",
        "print(\"_________________________________________________________________________________________________________________________________________\\n\")"
      ]
    },
    {
      "cell_type": "code",
      "execution_count": null,
      "metadata": {
        "id": "gcmaJ2YtNWzP",
        "colab": {
          "base_uri": "https://localhost:8080/"
        },
        "outputId": "9f7f0c43-2c10-4d3b-bc2f-97573e29d9f5"
      },
      "outputs": [
        {
          "output_type": "stream",
          "name": "stdout",
          "text": [
            "0.959079283887468\n"
          ]
        }
      ],
      "source": [
        "human_test_labels = np.asarray(human_test_labels)\n",
        "testLabels = np.asarray(testLabels)\n",
        "\n",
        "print(np.mean(human_test_labels == testLabels))"
      ]
    },
    {
      "cell_type": "code",
      "source": [
        "result = {\n",
        "    'Missclassification Cost':[],\n",
        "    'Human Cost':[],\n",
        "    'Combined': [],\n",
        "    'Human correct': [],\n",
        "    'Human refered': [],\n",
        "    'Human accuracy': [],\n",
        "    'Model correct': [],\n",
        "    'Model refered': [],\n",
        "    'Model accuracy': [],\n",
        "    'Loss': []\n",
        "}"
      ],
      "metadata": {
        "id": "i9i5Onzulnnx"
      },
      "execution_count": null,
      "outputs": []
    },
    {
      "cell_type": "code",
      "source": [
        "for human_cost in range(10):\n",
        "    for miss_cost in range(human_cost+1, 10):\n",
        "        correct = 0\n",
        "        total = testLabels.shape[0]\n",
        "        combined_accuracy = 0\n",
        "        human_correct = 0\n",
        "        human_refered = 0\n",
        "        human_accuracy = 0\n",
        "        model_correct = 0\n",
        "        model_refered = 0\n",
        "        model_accuracy = 0\n",
        "        loss = 0\n",
        "        for i in range(total):\n",
        "            P_X = miss_cost * (1 - y_pred[i][Y_pred[i]])\n",
        "            if(human_cost <= P_X):\n",
        "                human_refered += 1\n",
        "                if(testLabels[i] == human_test_labels[i]):\n",
        "                    human_correct += 1\n",
        "                    correct += 1\n",
        "            else:\n",
        "                model_refered += 1\n",
        "                if(Y_pred[i] == testLabels[i]):\n",
        "                    model_correct += 1\n",
        "                    correct += 1\n",
        "\n",
        "        combined_accuracy = 100 * correct / total\n",
        "        human_accuracy = 100 * human_correct / (human_refered + 0.000001)\n",
        "        model_accuracy = 100 * model_correct / (model_refered + 0.000001)\n",
        "        loss = miss_cost * (model_refered - model_correct) + human_cost * human_refered\n",
        "\n",
        "        result['Missclassification Cost'].append(miss_cost)\n",
        "        result['Human Cost'].append(human_cost)\n",
        "        result['Combined'].append(combined_accuracy)\n",
        "        result['Human correct'].append(human_correct)\n",
        "        result['Human refered'].append(human_refered)\n",
        "        result['Human accuracy'].append(human_accuracy)\n",
        "        result['Model correct'].append(model_correct)\n",
        "        result['Model refered'].append(model_refered)\n",
        "        result['Model accuracy'].append(model_accuracy)\n",
        "        result['Loss'].append(loss)\n"
      ],
      "metadata": {
        "id": "I6AY030Tj6YL"
      },
      "execution_count": null,
      "outputs": []
    },
    {
      "cell_type": "code",
      "source": [
        "pd.DataFrame.from_dict(result)[10:29]"
      ],
      "metadata": {
        "colab": {
          "base_uri": "https://localhost:8080/",
          "height": 645
        },
        "id": "f8eSla83pLzI",
        "outputId": "05c14178-098a-460a-8391-cf0756e34631"
      },
      "execution_count": null,
      "outputs": [
        {
          "output_type": "execute_result",
          "data": {
            "text/plain": [
              "    Missclassification Cost  Human Cost   Combined  Human correct  \\\n",
              "10                        3           1  90.537084            255   \n",
              "11                        4           1  93.094629            319   \n",
              "12                        5           1  93.861893            343   \n",
              "13                        6           1  94.629156            353   \n",
              "14                        7           1  95.140665            361   \n",
              "15                        8           1  95.396419            365   \n",
              "16                        9           1  95.396419            365   \n",
              "17                        3           2  71.355499              0   \n",
              "18                        4           2  71.355499              0   \n",
              "19                        5           2  85.166240            164   \n",
              "20                        6           2  90.537084            255   \n",
              "21                        7           2  92.327366            295   \n",
              "22                        8           2  93.094629            319   \n",
              "23                        9           2  93.861893            332   \n",
              "24                        4           3  71.355499              0   \n",
              "25                        5           3  71.355499              0   \n",
              "26                        6           3  71.355499              0   \n",
              "27                        7           3  81.074169            121   \n",
              "28                        8           3  88.235294            195   \n",
              "\n",
              "    Human refered  Human accuracy  Model correct  Model refered  \\\n",
              "10            270       94.444444             99            121   \n",
              "11            335       95.223880             45             56   \n",
              "12            359       95.543175             24             32   \n",
              "13            369       95.663956             17             22   \n",
              "14            377       95.755968             11             14   \n",
              "15            381       95.800525              8             10   \n",
              "16            381       95.800525              8             10   \n",
              "17              0        0.000000            279            391   \n",
              "18              0        0.000000            279            391   \n",
              "19            172       95.348837            169            219   \n",
              "20            270       94.444444             99            121   \n",
              "21            310       95.161290             66             81   \n",
              "22            335       95.223880             45             56   \n",
              "23            348       95.402299             35             43   \n",
              "24              0        0.000000            279            391   \n",
              "25              0        0.000000            279            391   \n",
              "26              0        0.000000            279            391   \n",
              "27            126       96.031745            196            265   \n",
              "28            206       94.660194            150            185   \n",
              "\n",
              "    Model accuracy  Loss  \n",
              "10       81.818181   336  \n",
              "11       80.357141   379  \n",
              "12       74.999998   399  \n",
              "13       77.272724   399  \n",
              "14       78.571423   398  \n",
              "15       79.999992   397  \n",
              "16       79.999992   399  \n",
              "17       71.355499   336  \n",
              "18       71.355499   448  \n",
              "19       77.168949   594  \n",
              "20       81.818181   672  \n",
              "21       81.481480   725  \n",
              "22       80.357141   758  \n",
              "23       81.395347   768  \n",
              "24       71.355499   448  \n",
              "25       71.355499   560  \n",
              "26       71.355499   672  \n",
              "27       73.962264   861  \n",
              "28       81.081081   898  "
            ],
            "text/html": [
              "\n",
              "  <div id=\"df-30f1f376-baa9-4146-968e-69f11b7b72e1\">\n",
              "    <div class=\"colab-df-container\">\n",
              "      <div>\n",
              "<style scoped>\n",
              "    .dataframe tbody tr th:only-of-type {\n",
              "        vertical-align: middle;\n",
              "    }\n",
              "\n",
              "    .dataframe tbody tr th {\n",
              "        vertical-align: top;\n",
              "    }\n",
              "\n",
              "    .dataframe thead th {\n",
              "        text-align: right;\n",
              "    }\n",
              "</style>\n",
              "<table border=\"1\" class=\"dataframe\">\n",
              "  <thead>\n",
              "    <tr style=\"text-align: right;\">\n",
              "      <th></th>\n",
              "      <th>Missclassification Cost</th>\n",
              "      <th>Human Cost</th>\n",
              "      <th>Combined</th>\n",
              "      <th>Human correct</th>\n",
              "      <th>Human refered</th>\n",
              "      <th>Human accuracy</th>\n",
              "      <th>Model correct</th>\n",
              "      <th>Model refered</th>\n",
              "      <th>Model accuracy</th>\n",
              "      <th>Loss</th>\n",
              "    </tr>\n",
              "  </thead>\n",
              "  <tbody>\n",
              "    <tr>\n",
              "      <th>10</th>\n",
              "      <td>3</td>\n",
              "      <td>1</td>\n",
              "      <td>90.537084</td>\n",
              "      <td>255</td>\n",
              "      <td>270</td>\n",
              "      <td>94.444444</td>\n",
              "      <td>99</td>\n",
              "      <td>121</td>\n",
              "      <td>81.818181</td>\n",
              "      <td>336</td>\n",
              "    </tr>\n",
              "    <tr>\n",
              "      <th>11</th>\n",
              "      <td>4</td>\n",
              "      <td>1</td>\n",
              "      <td>93.094629</td>\n",
              "      <td>319</td>\n",
              "      <td>335</td>\n",
              "      <td>95.223880</td>\n",
              "      <td>45</td>\n",
              "      <td>56</td>\n",
              "      <td>80.357141</td>\n",
              "      <td>379</td>\n",
              "    </tr>\n",
              "    <tr>\n",
              "      <th>12</th>\n",
              "      <td>5</td>\n",
              "      <td>1</td>\n",
              "      <td>93.861893</td>\n",
              "      <td>343</td>\n",
              "      <td>359</td>\n",
              "      <td>95.543175</td>\n",
              "      <td>24</td>\n",
              "      <td>32</td>\n",
              "      <td>74.999998</td>\n",
              "      <td>399</td>\n",
              "    </tr>\n",
              "    <tr>\n",
              "      <th>13</th>\n",
              "      <td>6</td>\n",
              "      <td>1</td>\n",
              "      <td>94.629156</td>\n",
              "      <td>353</td>\n",
              "      <td>369</td>\n",
              "      <td>95.663956</td>\n",
              "      <td>17</td>\n",
              "      <td>22</td>\n",
              "      <td>77.272724</td>\n",
              "      <td>399</td>\n",
              "    </tr>\n",
              "    <tr>\n",
              "      <th>14</th>\n",
              "      <td>7</td>\n",
              "      <td>1</td>\n",
              "      <td>95.140665</td>\n",
              "      <td>361</td>\n",
              "      <td>377</td>\n",
              "      <td>95.755968</td>\n",
              "      <td>11</td>\n",
              "      <td>14</td>\n",
              "      <td>78.571423</td>\n",
              "      <td>398</td>\n",
              "    </tr>\n",
              "    <tr>\n",
              "      <th>15</th>\n",
              "      <td>8</td>\n",
              "      <td>1</td>\n",
              "      <td>95.396419</td>\n",
              "      <td>365</td>\n",
              "      <td>381</td>\n",
              "      <td>95.800525</td>\n",
              "      <td>8</td>\n",
              "      <td>10</td>\n",
              "      <td>79.999992</td>\n",
              "      <td>397</td>\n",
              "    </tr>\n",
              "    <tr>\n",
              "      <th>16</th>\n",
              "      <td>9</td>\n",
              "      <td>1</td>\n",
              "      <td>95.396419</td>\n",
              "      <td>365</td>\n",
              "      <td>381</td>\n",
              "      <td>95.800525</td>\n",
              "      <td>8</td>\n",
              "      <td>10</td>\n",
              "      <td>79.999992</td>\n",
              "      <td>399</td>\n",
              "    </tr>\n",
              "    <tr>\n",
              "      <th>17</th>\n",
              "      <td>3</td>\n",
              "      <td>2</td>\n",
              "      <td>71.355499</td>\n",
              "      <td>0</td>\n",
              "      <td>0</td>\n",
              "      <td>0.000000</td>\n",
              "      <td>279</td>\n",
              "      <td>391</td>\n",
              "      <td>71.355499</td>\n",
              "      <td>336</td>\n",
              "    </tr>\n",
              "    <tr>\n",
              "      <th>18</th>\n",
              "      <td>4</td>\n",
              "      <td>2</td>\n",
              "      <td>71.355499</td>\n",
              "      <td>0</td>\n",
              "      <td>0</td>\n",
              "      <td>0.000000</td>\n",
              "      <td>279</td>\n",
              "      <td>391</td>\n",
              "      <td>71.355499</td>\n",
              "      <td>448</td>\n",
              "    </tr>\n",
              "    <tr>\n",
              "      <th>19</th>\n",
              "      <td>5</td>\n",
              "      <td>2</td>\n",
              "      <td>85.166240</td>\n",
              "      <td>164</td>\n",
              "      <td>172</td>\n",
              "      <td>95.348837</td>\n",
              "      <td>169</td>\n",
              "      <td>219</td>\n",
              "      <td>77.168949</td>\n",
              "      <td>594</td>\n",
              "    </tr>\n",
              "    <tr>\n",
              "      <th>20</th>\n",
              "      <td>6</td>\n",
              "      <td>2</td>\n",
              "      <td>90.537084</td>\n",
              "      <td>255</td>\n",
              "      <td>270</td>\n",
              "      <td>94.444444</td>\n",
              "      <td>99</td>\n",
              "      <td>121</td>\n",
              "      <td>81.818181</td>\n",
              "      <td>672</td>\n",
              "    </tr>\n",
              "    <tr>\n",
              "      <th>21</th>\n",
              "      <td>7</td>\n",
              "      <td>2</td>\n",
              "      <td>92.327366</td>\n",
              "      <td>295</td>\n",
              "      <td>310</td>\n",
              "      <td>95.161290</td>\n",
              "      <td>66</td>\n",
              "      <td>81</td>\n",
              "      <td>81.481480</td>\n",
              "      <td>725</td>\n",
              "    </tr>\n",
              "    <tr>\n",
              "      <th>22</th>\n",
              "      <td>8</td>\n",
              "      <td>2</td>\n",
              "      <td>93.094629</td>\n",
              "      <td>319</td>\n",
              "      <td>335</td>\n",
              "      <td>95.223880</td>\n",
              "      <td>45</td>\n",
              "      <td>56</td>\n",
              "      <td>80.357141</td>\n",
              "      <td>758</td>\n",
              "    </tr>\n",
              "    <tr>\n",
              "      <th>23</th>\n",
              "      <td>9</td>\n",
              "      <td>2</td>\n",
              "      <td>93.861893</td>\n",
              "      <td>332</td>\n",
              "      <td>348</td>\n",
              "      <td>95.402299</td>\n",
              "      <td>35</td>\n",
              "      <td>43</td>\n",
              "      <td>81.395347</td>\n",
              "      <td>768</td>\n",
              "    </tr>\n",
              "    <tr>\n",
              "      <th>24</th>\n",
              "      <td>4</td>\n",
              "      <td>3</td>\n",
              "      <td>71.355499</td>\n",
              "      <td>0</td>\n",
              "      <td>0</td>\n",
              "      <td>0.000000</td>\n",
              "      <td>279</td>\n",
              "      <td>391</td>\n",
              "      <td>71.355499</td>\n",
              "      <td>448</td>\n",
              "    </tr>\n",
              "    <tr>\n",
              "      <th>25</th>\n",
              "      <td>5</td>\n",
              "      <td>3</td>\n",
              "      <td>71.355499</td>\n",
              "      <td>0</td>\n",
              "      <td>0</td>\n",
              "      <td>0.000000</td>\n",
              "      <td>279</td>\n",
              "      <td>391</td>\n",
              "      <td>71.355499</td>\n",
              "      <td>560</td>\n",
              "    </tr>\n",
              "    <tr>\n",
              "      <th>26</th>\n",
              "      <td>6</td>\n",
              "      <td>3</td>\n",
              "      <td>71.355499</td>\n",
              "      <td>0</td>\n",
              "      <td>0</td>\n",
              "      <td>0.000000</td>\n",
              "      <td>279</td>\n",
              "      <td>391</td>\n",
              "      <td>71.355499</td>\n",
              "      <td>672</td>\n",
              "    </tr>\n",
              "    <tr>\n",
              "      <th>27</th>\n",
              "      <td>7</td>\n",
              "      <td>3</td>\n",
              "      <td>81.074169</td>\n",
              "      <td>121</td>\n",
              "      <td>126</td>\n",
              "      <td>96.031745</td>\n",
              "      <td>196</td>\n",
              "      <td>265</td>\n",
              "      <td>73.962264</td>\n",
              "      <td>861</td>\n",
              "    </tr>\n",
              "    <tr>\n",
              "      <th>28</th>\n",
              "      <td>8</td>\n",
              "      <td>3</td>\n",
              "      <td>88.235294</td>\n",
              "      <td>195</td>\n",
              "      <td>206</td>\n",
              "      <td>94.660194</td>\n",
              "      <td>150</td>\n",
              "      <td>185</td>\n",
              "      <td>81.081081</td>\n",
              "      <td>898</td>\n",
              "    </tr>\n",
              "  </tbody>\n",
              "</table>\n",
              "</div>\n",
              "      <button class=\"colab-df-convert\" onclick=\"convertToInteractive('df-30f1f376-baa9-4146-968e-69f11b7b72e1')\"\n",
              "              title=\"Convert this dataframe to an interactive table.\"\n",
              "              style=\"display:none;\">\n",
              "        \n",
              "  <svg xmlns=\"http://www.w3.org/2000/svg\" height=\"24px\"viewBox=\"0 0 24 24\"\n",
              "       width=\"24px\">\n",
              "    <path d=\"M0 0h24v24H0V0z\" fill=\"none\"/>\n",
              "    <path d=\"M18.56 5.44l.94 2.06.94-2.06 2.06-.94-2.06-.94-.94-2.06-.94 2.06-2.06.94zm-11 1L8.5 8.5l.94-2.06 2.06-.94-2.06-.94L8.5 2.5l-.94 2.06-2.06.94zm10 10l.94 2.06.94-2.06 2.06-.94-2.06-.94-.94-2.06-.94 2.06-2.06.94z\"/><path d=\"M17.41 7.96l-1.37-1.37c-.4-.4-.92-.59-1.43-.59-.52 0-1.04.2-1.43.59L10.3 9.45l-7.72 7.72c-.78.78-.78 2.05 0 2.83L4 21.41c.39.39.9.59 1.41.59.51 0 1.02-.2 1.41-.59l7.78-7.78 2.81-2.81c.8-.78.8-2.07 0-2.86zM5.41 20L4 18.59l7.72-7.72 1.47 1.35L5.41 20z\"/>\n",
              "  </svg>\n",
              "      </button>\n",
              "      \n",
              "  <style>\n",
              "    .colab-df-container {\n",
              "      display:flex;\n",
              "      flex-wrap:wrap;\n",
              "      gap: 12px;\n",
              "    }\n",
              "\n",
              "    .colab-df-convert {\n",
              "      background-color: #E8F0FE;\n",
              "      border: none;\n",
              "      border-radius: 50%;\n",
              "      cursor: pointer;\n",
              "      display: none;\n",
              "      fill: #1967D2;\n",
              "      height: 32px;\n",
              "      padding: 0 0 0 0;\n",
              "      width: 32px;\n",
              "    }\n",
              "\n",
              "    .colab-df-convert:hover {\n",
              "      background-color: #E2EBFA;\n",
              "      box-shadow: 0px 1px 2px rgba(60, 64, 67, 0.3), 0px 1px 3px 1px rgba(60, 64, 67, 0.15);\n",
              "      fill: #174EA6;\n",
              "    }\n",
              "\n",
              "    [theme=dark] .colab-df-convert {\n",
              "      background-color: #3B4455;\n",
              "      fill: #D2E3FC;\n",
              "    }\n",
              "\n",
              "    [theme=dark] .colab-df-convert:hover {\n",
              "      background-color: #434B5C;\n",
              "      box-shadow: 0px 1px 3px 1px rgba(0, 0, 0, 0.15);\n",
              "      filter: drop-shadow(0px 1px 2px rgba(0, 0, 0, 0.3));\n",
              "      fill: #FFFFFF;\n",
              "    }\n",
              "  </style>\n",
              "\n",
              "      <script>\n",
              "        const buttonEl =\n",
              "          document.querySelector('#df-30f1f376-baa9-4146-968e-69f11b7b72e1 button.colab-df-convert');\n",
              "        buttonEl.style.display =\n",
              "          google.colab.kernel.accessAllowed ? 'block' : 'none';\n",
              "\n",
              "        async function convertToInteractive(key) {\n",
              "          const element = document.querySelector('#df-30f1f376-baa9-4146-968e-69f11b7b72e1');\n",
              "          const dataTable =\n",
              "            await google.colab.kernel.invokeFunction('convertToInteractive',\n",
              "                                                     [key], {});\n",
              "          if (!dataTable) return;\n",
              "\n",
              "          const docLinkHtml = 'Like what you see? Visit the ' +\n",
              "            '<a target=\"_blank\" href=https://colab.research.google.com/notebooks/data_table.ipynb>data table notebook</a>'\n",
              "            + ' to learn more about interactive tables.';\n",
              "          element.innerHTML = '';\n",
              "          dataTable['output_type'] = 'display_data';\n",
              "          await google.colab.output.renderOutput(dataTable, element);\n",
              "          const docLink = document.createElement('div');\n",
              "          docLink.innerHTML = docLinkHtml;\n",
              "          element.appendChild(docLink);\n",
              "        }\n",
              "      </script>\n",
              "    </div>\n",
              "  </div>\n",
              "  "
            ]
          },
          "metadata": {},
          "execution_count": 67
        }
      ]
    },
    {
      "cell_type": "code",
      "execution_count": null,
      "metadata": {
        "id": "HOz4Z4H5Zf4p"
      },
      "outputs": [],
      "source": [
        "df.to_csv('file1.csv')"
      ]
    },
    {
      "cell_type": "code",
      "source": [],
      "metadata": {
        "id": "ss9EqcBrUzBx"
      },
      "execution_count": null,
      "outputs": []
    }
  ],
  "metadata": {
    "accelerator": "GPU",
    "colab": {
      "provenance": [],
      "include_colab_link": true
    },
    "gpuClass": "standard",
    "kernelspec": {
      "display_name": "Python 3",
      "name": "python3"
    },
    "language_info": {
      "name": "python"
    }
  },
  "nbformat": 4,
  "nbformat_minor": 0
}