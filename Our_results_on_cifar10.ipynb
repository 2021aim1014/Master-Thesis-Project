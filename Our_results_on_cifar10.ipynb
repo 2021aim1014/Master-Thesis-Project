{
  "nbformat": 4,
  "nbformat_minor": 0,
  "metadata": {
    "colab": {
      "provenance": [],
      "authorship_tag": "ABX9TyN/L+XD3PwemCS/jeE/0Cyd"
    },
    "kernelspec": {
      "name": "python3",
      "display_name": "Python 3"
    },
    "language_info": {
      "name": "python"
    },
    "widgets": {
      "application/vnd.jupyter.widget-state+json": {
        "32af20bd7da146f79524931c6811e244": {
          "model_module": "@jupyter-widgets/controls",
          "model_name": "HBoxModel",
          "model_module_version": "1.5.0",
          "state": {
            "_dom_classes": [],
            "_model_module": "@jupyter-widgets/controls",
            "_model_module_version": "1.5.0",
            "_model_name": "HBoxModel",
            "_view_count": null,
            "_view_module": "@jupyter-widgets/controls",
            "_view_module_version": "1.5.0",
            "_view_name": "HBoxView",
            "box_style": "",
            "children": [
              "IPY_MODEL_acc11d9e21794ecc9928373a34e2a496",
              "IPY_MODEL_2ff27aacc64e4fb8886dfd367b508103",
              "IPY_MODEL_e287a35db3264c0ca4ba2a167b6ba60e"
            ],
            "layout": "IPY_MODEL_b4b8f39668d540f3a33049340128492b"
          }
        },
        "acc11d9e21794ecc9928373a34e2a496": {
          "model_module": "@jupyter-widgets/controls",
          "model_name": "HTMLModel",
          "model_module_version": "1.5.0",
          "state": {
            "_dom_classes": [],
            "_model_module": "@jupyter-widgets/controls",
            "_model_module_version": "1.5.0",
            "_model_name": "HTMLModel",
            "_view_count": null,
            "_view_module": "@jupyter-widgets/controls",
            "_view_module_version": "1.5.0",
            "_view_name": "HTMLView",
            "description": "",
            "description_tooltip": null,
            "layout": "IPY_MODEL_ef3f207611e34aed8e5fe9fedec7e185",
            "placeholder": "​",
            "style": "IPY_MODEL_e213ee8ff9e2413ba8f008dd4aae6ee3",
            "value": "Models:   0%"
          }
        },
        "2ff27aacc64e4fb8886dfd367b508103": {
          "model_module": "@jupyter-widgets/controls",
          "model_name": "FloatProgressModel",
          "model_module_version": "1.5.0",
          "state": {
            "_dom_classes": [],
            "_model_module": "@jupyter-widgets/controls",
            "_model_module_version": "1.5.0",
            "_model_name": "FloatProgressModel",
            "_view_count": null,
            "_view_module": "@jupyter-widgets/controls",
            "_view_module_version": "1.5.0",
            "_view_name": "ProgressView",
            "bar_style": "danger",
            "description": "",
            "description_tooltip": null,
            "layout": "IPY_MODEL_938d8d08d0944a3f9552a79b13b3f1c2",
            "max": 1,
            "min": 0,
            "orientation": "horizontal",
            "style": "IPY_MODEL_1378987989a94b39b790fcd966824e82",
            "value": 0
          }
        },
        "e287a35db3264c0ca4ba2a167b6ba60e": {
          "model_module": "@jupyter-widgets/controls",
          "model_name": "HTMLModel",
          "model_module_version": "1.5.0",
          "state": {
            "_dom_classes": [],
            "_model_module": "@jupyter-widgets/controls",
            "_model_module_version": "1.5.0",
            "_model_name": "HTMLModel",
            "_view_count": null,
            "_view_module": "@jupyter-widgets/controls",
            "_view_module_version": "1.5.0",
            "_view_name": "HTMLView",
            "description": "",
            "description_tooltip": null,
            "layout": "IPY_MODEL_ad879ccce409412ba42d3080c10a4b30",
            "placeholder": "​",
            "style": "IPY_MODEL_f0870f8b31624757946050f7b158a61d",
            "value": " 0/1 [00:00&lt;?, ?it/s]"
          }
        },
        "b4b8f39668d540f3a33049340128492b": {
          "model_module": "@jupyter-widgets/base",
          "model_name": "LayoutModel",
          "model_module_version": "1.2.0",
          "state": {
            "_model_module": "@jupyter-widgets/base",
            "_model_module_version": "1.2.0",
            "_model_name": "LayoutModel",
            "_view_count": null,
            "_view_module": "@jupyter-widgets/base",
            "_view_module_version": "1.2.0",
            "_view_name": "LayoutView",
            "align_content": null,
            "align_items": null,
            "align_self": null,
            "border": null,
            "bottom": null,
            "display": null,
            "flex": null,
            "flex_flow": null,
            "grid_area": null,
            "grid_auto_columns": null,
            "grid_auto_flow": null,
            "grid_auto_rows": null,
            "grid_column": null,
            "grid_gap": null,
            "grid_row": null,
            "grid_template_areas": null,
            "grid_template_columns": null,
            "grid_template_rows": null,
            "height": null,
            "justify_content": null,
            "justify_items": null,
            "left": null,
            "margin": null,
            "max_height": null,
            "max_width": null,
            "min_height": null,
            "min_width": null,
            "object_fit": null,
            "object_position": null,
            "order": null,
            "overflow": null,
            "overflow_x": null,
            "overflow_y": null,
            "padding": null,
            "right": null,
            "top": null,
            "visibility": null,
            "width": null
          }
        },
        "ef3f207611e34aed8e5fe9fedec7e185": {
          "model_module": "@jupyter-widgets/base",
          "model_name": "LayoutModel",
          "model_module_version": "1.2.0",
          "state": {
            "_model_module": "@jupyter-widgets/base",
            "_model_module_version": "1.2.0",
            "_model_name": "LayoutModel",
            "_view_count": null,
            "_view_module": "@jupyter-widgets/base",
            "_view_module_version": "1.2.0",
            "_view_name": "LayoutView",
            "align_content": null,
            "align_items": null,
            "align_self": null,
            "border": null,
            "bottom": null,
            "display": null,
            "flex": null,
            "flex_flow": null,
            "grid_area": null,
            "grid_auto_columns": null,
            "grid_auto_flow": null,
            "grid_auto_rows": null,
            "grid_column": null,
            "grid_gap": null,
            "grid_row": null,
            "grid_template_areas": null,
            "grid_template_columns": null,
            "grid_template_rows": null,
            "height": null,
            "justify_content": null,
            "justify_items": null,
            "left": null,
            "margin": null,
            "max_height": null,
            "max_width": null,
            "min_height": null,
            "min_width": null,
            "object_fit": null,
            "object_position": null,
            "order": null,
            "overflow": null,
            "overflow_x": null,
            "overflow_y": null,
            "padding": null,
            "right": null,
            "top": null,
            "visibility": null,
            "width": null
          }
        },
        "e213ee8ff9e2413ba8f008dd4aae6ee3": {
          "model_module": "@jupyter-widgets/controls",
          "model_name": "DescriptionStyleModel",
          "model_module_version": "1.5.0",
          "state": {
            "_model_module": "@jupyter-widgets/controls",
            "_model_module_version": "1.5.0",
            "_model_name": "DescriptionStyleModel",
            "_view_count": null,
            "_view_module": "@jupyter-widgets/base",
            "_view_module_version": "1.2.0",
            "_view_name": "StyleView",
            "description_width": ""
          }
        },
        "938d8d08d0944a3f9552a79b13b3f1c2": {
          "model_module": "@jupyter-widgets/base",
          "model_name": "LayoutModel",
          "model_module_version": "1.2.0",
          "state": {
            "_model_module": "@jupyter-widgets/base",
            "_model_module_version": "1.2.0",
            "_model_name": "LayoutModel",
            "_view_count": null,
            "_view_module": "@jupyter-widgets/base",
            "_view_module_version": "1.2.0",
            "_view_name": "LayoutView",
            "align_content": null,
            "align_items": null,
            "align_self": null,
            "border": null,
            "bottom": null,
            "display": null,
            "flex": null,
            "flex_flow": null,
            "grid_area": null,
            "grid_auto_columns": null,
            "grid_auto_flow": null,
            "grid_auto_rows": null,
            "grid_column": null,
            "grid_gap": null,
            "grid_row": null,
            "grid_template_areas": null,
            "grid_template_columns": null,
            "grid_template_rows": null,
            "height": null,
            "justify_content": null,
            "justify_items": null,
            "left": null,
            "margin": null,
            "max_height": null,
            "max_width": null,
            "min_height": null,
            "min_width": null,
            "object_fit": null,
            "object_position": null,
            "order": null,
            "overflow": null,
            "overflow_x": null,
            "overflow_y": null,
            "padding": null,
            "right": null,
            "top": null,
            "visibility": null,
            "width": null
          }
        },
        "1378987989a94b39b790fcd966824e82": {
          "model_module": "@jupyter-widgets/controls",
          "model_name": "ProgressStyleModel",
          "model_module_version": "1.5.0",
          "state": {
            "_model_module": "@jupyter-widgets/controls",
            "_model_module_version": "1.5.0",
            "_model_name": "ProgressStyleModel",
            "_view_count": null,
            "_view_module": "@jupyter-widgets/base",
            "_view_module_version": "1.2.0",
            "_view_name": "StyleView",
            "bar_color": null,
            "description_width": ""
          }
        },
        "ad879ccce409412ba42d3080c10a4b30": {
          "model_module": "@jupyter-widgets/base",
          "model_name": "LayoutModel",
          "model_module_version": "1.2.0",
          "state": {
            "_model_module": "@jupyter-widgets/base",
            "_model_module_version": "1.2.0",
            "_model_name": "LayoutModel",
            "_view_count": null,
            "_view_module": "@jupyter-widgets/base",
            "_view_module_version": "1.2.0",
            "_view_name": "LayoutView",
            "align_content": null,
            "align_items": null,
            "align_self": null,
            "border": null,
            "bottom": null,
            "display": null,
            "flex": null,
            "flex_flow": null,
            "grid_area": null,
            "grid_auto_columns": null,
            "grid_auto_flow": null,
            "grid_auto_rows": null,
            "grid_column": null,
            "grid_gap": null,
            "grid_row": null,
            "grid_template_areas": null,
            "grid_template_columns": null,
            "grid_template_rows": null,
            "height": null,
            "justify_content": null,
            "justify_items": null,
            "left": null,
            "margin": null,
            "max_height": null,
            "max_width": null,
            "min_height": null,
            "min_width": null,
            "object_fit": null,
            "object_position": null,
            "order": null,
            "overflow": null,
            "overflow_x": null,
            "overflow_y": null,
            "padding": null,
            "right": null,
            "top": null,
            "visibility": null,
            "width": null
          }
        },
        "f0870f8b31624757946050f7b158a61d": {
          "model_module": "@jupyter-widgets/controls",
          "model_name": "DescriptionStyleModel",
          "model_module_version": "1.5.0",
          "state": {
            "_model_module": "@jupyter-widgets/controls",
            "_model_module_version": "1.5.0",
            "_model_name": "DescriptionStyleModel",
            "_view_count": null,
            "_view_module": "@jupyter-widgets/base",
            "_view_module_version": "1.2.0",
            "_view_name": "StyleView",
            "description_width": ""
          }
        }
      }
    }
  },
  "cells": [
    {
      "cell_type": "code",
      "execution_count": null,
      "metadata": {
        "id": "xS-ej-CQPt4A",
        "colab": {
          "base_uri": "https://localhost:8080/"
        },
        "outputId": "09ccc35c-21c0-4692-c9d3-8683cd15534d"
      },
      "outputs": [
        {
          "output_type": "stream",
          "name": "stdout",
          "text": [
            "Looking in indexes: https://pypi.org/simple, https://us-python.pkg.dev/colab-wheels/public/simple/\n",
            "Requirement already satisfied: attrdict in /usr/local/lib/python3.7/dist-packages (2.0.1)\n",
            "Requirement already satisfied: deepdish in /usr/local/lib/python3.7/dist-packages (0.3.7)\n",
            "Requirement already satisfied: pyro-ppl in /usr/local/lib/python3.7/dist-packages (1.8.3)\n",
            "Requirement already satisfied: uncertainty-calibration in /usr/local/lib/python3.7/dist-packages (0.1.4)\n",
            "Requirement already satisfied: six in /usr/local/lib/python3.7/dist-packages (from attrdict) (1.15.0)\n",
            "Requirement already satisfied: tables in /usr/local/lib/python3.7/dist-packages (from deepdish) (3.7.0)\n",
            "Requirement already satisfied: numpy in /usr/local/lib/python3.7/dist-packages (from deepdish) (1.21.6)\n",
            "Requirement already satisfied: scipy in /usr/local/lib/python3.7/dist-packages (from deepdish) (1.7.3)\n",
            "Requirement already satisfied: opt-einsum>=2.3.2 in /usr/local/lib/python3.7/dist-packages (from pyro-ppl) (3.3.0)\n",
            "Requirement already satisfied: pyro-api>=0.1.1 in /usr/local/lib/python3.7/dist-packages (from pyro-ppl) (0.1.2)\n",
            "Requirement already satisfied: tqdm>=4.36 in /usr/local/lib/python3.7/dist-packages (from pyro-ppl) (4.64.1)\n",
            "Requirement already satisfied: torch>=1.11.0 in /usr/local/lib/python3.7/dist-packages (from pyro-ppl) (1.12.1+cu113)\n",
            "Requirement already satisfied: typing-extensions in /usr/local/lib/python3.7/dist-packages (from torch>=1.11.0->pyro-ppl) (4.1.1)\n",
            "Requirement already satisfied: parameterized in /usr/local/lib/python3.7/dist-packages (from uncertainty-calibration) (0.8.1)\n",
            "Requirement already satisfied: scikit-learn in /usr/local/lib/python3.7/dist-packages (from uncertainty-calibration) (1.0.2)\n",
            "Requirement already satisfied: threadpoolctl>=2.0.0 in /usr/local/lib/python3.7/dist-packages (from scikit-learn->uncertainty-calibration) (3.1.0)\n",
            "Requirement already satisfied: joblib>=0.11 in /usr/local/lib/python3.7/dist-packages (from scikit-learn->uncertainty-calibration) (1.2.0)\n",
            "Requirement already satisfied: numexpr>=2.6.2 in /usr/local/lib/python3.7/dist-packages (from tables->deepdish) (2.8.4)\n",
            "Requirement already satisfied: packaging in /usr/local/lib/python3.7/dist-packages (from tables->deepdish) (21.3)\n",
            "Requirement already satisfied: pyparsing!=3.0.5,>=2.0.2 in /usr/local/lib/python3.7/dist-packages (from packaging->tables->deepdish) (3.0.9)\n"
          ]
        }
      ],
      "source": [
        "!pip install attrdict deepdish pyro-ppl uncertainty-calibration"
      ]
    },
    {
      "cell_type": "code",
      "source": [
        "from tqdm.auto import tqdm\n",
        "import torch\n",
        "from sklearn.model_selection import train_test_split\n",
        "import csv\n",
        "import numpy as np\n",
        "import os"
      ],
      "metadata": {
        "id": "vyhOwixURZy3"
      },
      "execution_count": null,
      "outputs": []
    },
    {
      "cell_type": "code",
      "source": [
        "import warnings\n",
        "from sklearn.metrics import confusion_matrix\n",
        "from sklearn.model_selection import GridSearchCV, StratifiedKFold\n",
        "from sklearn.linear_model import LogisticRegression"
      ],
      "metadata": {
        "id": "_B38K9qRTTn1"
      },
      "execution_count": null,
      "outputs": []
    },
    {
      "cell_type": "code",
      "source": [
        "from torch import nn, optim\n",
        "from torch.distributions.log_normal import LogNormal\n",
        "import pyro\n",
        "import pyro.distributions as dist\n",
        "from pyro.infer import MCMC, NUTS\n",
        "from torch.nn.functional import softmax"
      ],
      "metadata": {
        "id": "lhRQWEn2VAkQ"
      },
      "execution_count": null,
      "outputs": []
    },
    {
      "cell_type": "code",
      "source": [
        "import numpy as np\n",
        "from scipy import optimize\n",
        "from sklearn.isotonic import IsotonicRegression"
      ],
      "metadata": {
        "id": "xWOXj767WB1x"
      },
      "execution_count": null,
      "outputs": []
    },
    {
      "cell_type": "code",
      "source": [
        "from attrdict import AttrDict\n",
        "from sklearn.cluster import KMeans "
      ],
      "metadata": {
        "id": "oSK92dIyXUbN"
      },
      "execution_count": null,
      "outputs": []
    },
    {
      "cell_type": "code",
      "source": [
        "class TSCalibrator():\n",
        "    \"\"\" Maximum likelihood temperature scaling (Guo et al., 2017)\n",
        "    \"\"\"\n",
        "\n",
        "    def __init__(self, temperature=1., n_clusters=14):\n",
        "        super().__init__()\n",
        "        self.temperature = []\n",
        "        self.n_clusters = n_clusters\n",
        "        self.kmeans = KMeans(n_clusters=n_clusters, random_state=0)\n",
        "\n",
        "        self.loss_trace = None\n",
        "\n",
        "    def fitHelper(self, logits, y, cluster):\n",
        "        \"\"\" Fits temperature scaling using hard labels.\n",
        "        \"\"\"\n",
        "        # Pre-processing\n",
        "        self.n_classes = logits.shape[1]\n",
        "        _model_logits = torch.from_numpy(logits)\n",
        "        _y = torch.from_numpy(y)\n",
        "        _temperature = torch.tensor(self.temperature[cluster], requires_grad=True)\n",
        "\n",
        "        # Optimization parameters\n",
        "        nll = nn.CrossEntropyLoss()  # Supervised hard-label loss\n",
        "        num_steps = 7500\n",
        "        learning_rate = 0.05\n",
        "        grad_tol = 1e-3  # Gradient tolerance for early stopping\n",
        "        min_temp, max_temp = 1e-2, 1e4  # Upper / lower bounds on temperature\n",
        "\n",
        "        optimizer = optim.Adam([_temperature], lr=learning_rate)\n",
        "\n",
        "        loss_trace = []  # Track loss over iterations\n",
        "        step = 0\n",
        "        converged = False\n",
        "        while not converged:\n",
        "\n",
        "            optimizer.zero_grad()\n",
        "            loss = nll(_model_logits / _temperature, _y)\n",
        "            loss.backward()\n",
        "            optimizer.step()\n",
        "            loss_trace.append(loss.item())\n",
        "\n",
        "            with torch.no_grad():\n",
        "                _temperature.clamp_(min=min_temp, max=max_temp)\n",
        "\n",
        "            step += 1\n",
        "            if step > num_steps:\n",
        "                warnings.warn('Maximum number of steps reached -- may not have converged (TS)')\n",
        "            converged = (step > num_steps) or (np.abs(_temperature.grad) < grad_tol)\n",
        "\n",
        "        self.loss_trace = loss_trace\n",
        "        # self.temperature = _temperature.item()\n",
        "        return _temperature.item()\n",
        "\n",
        "    def fit(self, model_logits, y_true):\n",
        "        self.kmeans.fit(model_logits)\n",
        "\n",
        "        _model_logits = []\n",
        "        _y_true = []\n",
        "        for _ in range(self.n_clusters):\n",
        "            _model_logits.append([])\n",
        "            _y_true.append([])\n",
        "            self.temperature.append(1.0)\n",
        "\n",
        "        for i in range(self.kmeans.labels_.shape[0]):\n",
        "            cluster_center = self.kmeans.labels_[i]\n",
        "            _model_logits[cluster_center].append(model_logits[i])\n",
        "            _y_true[cluster_center].append(y_true[i])\n",
        "\n",
        "        for cluster in range(0, self.n_clusters):\n",
        "            self.temperature[cluster] = self.fitHelper(np.array(_model_logits[cluster]), np.array(_y_true[cluster]), cluster)\n",
        "\n",
        "    def calibrate(self, probs):\n",
        "        clipped_model_probs = np.clip(probs, 1e-50, 1)\n",
        "        model_logits = np.log(clipped_model_probs)\n",
        "        labels = self.kmeans.predict(model_logits)\n",
        "\n",
        "        for i in range(model_logits.shape[0]):\n",
        "            probs[i] = probs[i] ** (1. / self.temperature[labels[i]])\n",
        "\n",
        "        # calibrated_probs = probs ** (1. / self.temperature)  # Temper\n",
        "        probs /= np.sum(probs, axis=1, keepdims=True)  # Normalize\n",
        "        return probs"
      ],
      "metadata": {
        "id": "foeRFfmXULEU"
      },
      "execution_count": null,
      "outputs": []
    },
    {
      "cell_type": "code",
      "source": [
        "class OracleCombiner:\n",
        "    \"\"\" Implements the P+L combination method, fit using maximum likelihood\n",
        "    \"\"\"\n",
        "    def __init__(self, calibration_method='temperature scaling', **kwargs):\n",
        "        self.calibrator = None\n",
        "        self.confusion_matrix = None  # conf[i, j] is assumed to be P(h = i | Y = j)\n",
        "\n",
        "        self.n_train_u = None  # Amount of unlabeled training data\n",
        "        self.n_train_l = None  # Amount of labeled training data\n",
        "        self.n_cls = None  # Number of classes\n",
        "\n",
        "        self.eps = 1e-50\n",
        "\n",
        "        self.use_cv = False\n",
        "        self.calibration_method = calibration_method\n",
        "        self.calibrator = TSCalibrator()\n",
        "\n",
        "    def calibrate(self, model_probs):\n",
        "        return self.calibrator.calibrate(model_probs)\n",
        "\n",
        "    def fit(self, model_probs, y_h, y_true):\n",
        "        self.n_cls = model_probs.shape[1]\n",
        "\n",
        "        # Estimate human confusion matrix\n",
        "        # Entry [i, j]  is #(Y = i and h = j)\n",
        "        conf_h = 1. * confusion_matrix(y_true, y_h, labels=np.arange(self.n_cls))\n",
        "        # Swap so entry [i, j] is #(h = i and Y = j)\n",
        "        conf_h = conf_h.T\n",
        "        conf_h = np.clip(conf_h, self.eps, None)\n",
        "        normalizer = np.sum(conf_h, axis=0, keepdims=True)\n",
        "        # Normalize columns so entry [i, j] is P(h = i | Y = j)\n",
        "        conf_h /= normalizer\n",
        "        self.confusion_matrix = conf_h\n",
        "\n",
        "        # Calibrate model probabilities\n",
        "        if self.use_cv:\n",
        "            self.fit_calibrator_cv(model_probs, y_true)\n",
        "        else:\n",
        "            self.fit_calibrator(model_probs, y_true)\n",
        "\n",
        "    def fit_bayesian(self, model_probs, y_h, y_true, alpha=0.1, beta=0.1):\n",
        "        \"\"\" This is the \"plus one\" parameterization, i.e. alpha,beta just need to be > 0\n",
        "        Really corresponds to a Dirichlet(alpha+1, beta+1, beta+1, . . . ,beta+1) distribution\n",
        "        \"\"\"\n",
        "        self.n_cls = model_probs.shape[1]\n",
        "\n",
        "        prior_matr = np.eye(self.n_cls) * alpha + (np.ones(self.n_cls) - np.eye(self.n_cls)) * beta\n",
        "\n",
        "        conf_h = 1. * confusion_matrix(y_true, y_h, labels=np.arange(self.n_cls))\n",
        "        conf_h += prior_matr\n",
        "        # Swap so entry [i, j] is #(h = i and Y = j)\n",
        "        conf_h = conf_h.T\n",
        "        #conf_h = np.clip(conf_h, self.eps, None)\n",
        "        normalizer = np.sum(conf_h, axis=0, keepdims=True)\n",
        "        # Normalize columns so entry [i, j] is P(h = i | Y = j)\n",
        "        conf_h = conf_h / normalizer\n",
        "        self.confusion_matrix = conf_h\n",
        "\n",
        "        # Calibrate model probabilities\n",
        "        if self.use_cv:\n",
        "            self.fit_calibrator_cv(model_probs, y_true)\n",
        "        else:\n",
        "            self.fit_calibrator(model_probs, y_true)\n",
        "\n",
        "    def fit_calibrator(self, model_probs, y_true):\n",
        "        clipped_model_probs = np.clip(model_probs, self.eps, 1)\n",
        "        model_logits = np.log(clipped_model_probs)\n",
        "        self.calibrator.fit(model_logits, y_true)\n",
        "\n",
        "    def fit_calibrator_cv(self, model_probs, y_true):\n",
        "        # Fits calibration maps that require hyperparameters, using cross-validation\n",
        "        if self.calibration_method == 'dirichlet':\n",
        "            reg_lambda_vals = [10., 1., 0., 5e-1, 1e-1, 1e-2, 1e-3]\n",
        "            skf = StratifiedKFold(n_splits=3, shuffle=True, random_state=0)\n",
        "            gscv = GridSearchCV(self.calibrator, param_grid={'reg_lambda': reg_lambda_vals,\n",
        "                                                             'reg_mu': [None]},\n",
        "                                cv=skf, scoring='neg_log_loss', refit=True)\n",
        "            gscv.fit(model_probs, y_true)\n",
        "            self.calibrator = gscv.best_estimator_\n",
        "        else:\n",
        "            raise NotImplementedError\n",
        "\n",
        "    def combine_proba(self, model_probs, y_h, y_true_te, miss_cost = 9, human_cost = 1):\n",
        "        \"\"\" Combines model probabilities with hard labels via the calibrate-confuse equation given the confusion matrix.\n",
        "\n",
        "        Args:\n",
        "            p_m: Array of model probabilities ; shape (n_samples, n_classes)\n",
        "            y_h: List of hard labels ; shape (n_samples,)\n",
        "\n",
        "        Returns:\n",
        "            Normalized posterior probabilities P(Y | m, h). Entry [i, j] is P(Y = j | h_i, m_i)\n",
        "        \"\"\"\n",
        "        assert model_probs.shape[0] == y_h.size, 'Size mismatch between model probs and human labels'\n",
        "        assert model_probs.shape[1] == self.n_cls, 'Size mismatch between model probs and number of classes'\n",
        "\n",
        "        n_samples = model_probs.shape[0]\n",
        "        calibrated_model_probs = self.calibrate(model_probs)\n",
        "\n",
        "        model_output = np.argmax(calibrated_model_probs, axis=1)\n",
        "        \n",
        "        # Accuracy Parameters\n",
        "        human_correct = 0\n",
        "        human_refered = 0\n",
        "        model_correct = 0\n",
        "        model_refered = 0\n",
        "        \n",
        "        y_comb = np.empty((n_samples, self.n_cls))\n",
        "        for i in range(n_samples):\n",
        "\n",
        "            P_X = miss_cost * (1 - calibrated_model_probs[i][model_output[i]])\n",
        "            if(human_cost <= P_X):\n",
        "                # y_comb[i] = calibrated_model_probs[i] * self.confusion_matrix[y_h[i]]\n",
        "                y_comb[i] = calibrated_model_probs[i] * self.confusion_matrix[y_h[i]]\n",
        "                human_refered += 1\n",
        "                if(np.argmax(y_comb[i]) == y_true_te[i]):\n",
        "                    human_correct += 1\n",
        "            else:\n",
        "                y_comb[i] = calibrated_model_probs[i]\n",
        "                model_refered += 1\n",
        "                if(np.argmax(y_comb[i]) == y_true_te[i]):\n",
        "                    model_correct += 1\n",
        "\n",
        "            if np.allclose(y_comb[i], 0):  # Handle zero rows\n",
        "                y_comb[i] = np.ones(self.n_cls) * (1./self.n_cls)\n",
        "        \n",
        "        # fig, ax = plt.subplots(figsize=(10, 10))\n",
        "        # ax.matshow(self.confusion_matrix, cmap=plt.cm.Blues, alpha=0.3)\n",
        "        # for i in range(self.confusion_matrix.shape[0]):\n",
        "        #     for j in range(self.confusion_matrix.shape[1]):\n",
        "        #         t = round(self.confusion_matrix[i, j], 2)\n",
        "        #         ax.text(x=j, y=i,s=t, va='center', ha='center', size='xx-large')\n",
        "        \n",
        "        # plt.xlabel('Predictions', fontsize=18)\n",
        "        # plt.ylabel('Actuals', fontsize=18)\n",
        "        # plt.title('Confusion Matrix', fontsize=18)\n",
        "        # plt.show()\n",
        "\n",
        "        result = {\n",
        "            'Missclassification Cost' : miss_cost,\n",
        "            'Human cost': human_cost,\n",
        "            'Combined accuracy': (human_correct + model_correct) / n_samples,\n",
        "            'Human correct': human_correct,\n",
        "            'Human refered': human_refered,\n",
        "            'Human accuracy': human_correct / human_refered,\n",
        "            'Model correct': model_correct,\n",
        "            'Model refered': model_refered,\n",
        "            'Model accuracy': model_correct / model_refered,\n",
        "            'Model cost': miss_cost * (model_refered - model_correct) + human_cost * human_refered\n",
        "        }\n",
        "\n",
        "        # Don't forget to normalize :)\n",
        "        assert np.all(np.isfinite(np.sum(y_comb, axis=1)))\n",
        "        assert np.all(np.sum(y_comb, axis=1) > 0)\n",
        "        y_comb /= np.sum(y_comb, axis=1, keepdims=True)\n",
        "        return y_comb, result\n",
        "        # return calibrated_model_probs, self.confusion_matrix, y_comb\n",
        "\n",
        "    def combine(self, model_probs, y_h, y_true_te, miss_cost = 9, human_cost = 1):\n",
        "        \"\"\" Combines model probs and y_h to return hard labels\n",
        "        \"\"\"\n",
        "        y_comb_soft, result = self.combine_proba(model_probs, y_h, y_true_te, miss_cost, human_cost)\n",
        "        return np.argmax(y_comb_soft, axis=1), result\n",
        "\n",
        "        # calibrated_model_probs, confusion_matrix, y_comb_soft = self.combine_proba(model_probs, y_h)\n",
        "        # return calibrated_model_probs, confusion_matrix, y_comb_soft\n",
        "        "
      ],
      "metadata": {
        "id": "13HmsvY-Txjl"
      },
      "execution_count": null,
      "outputs": []
    },
    {
      "cell_type": "code",
      "source": [
        "def get_acc(y_pred, y_true):\n",
        "    \"\"\" Computes the accuracy of predictions.\n",
        "    If y_pred is 2D, it is assumed that it is a matrix of scores (e.g. probabilities) of shape (n_samples, n_classes)\n",
        "    \"\"\"\n",
        "    if y_pred.ndim == 1:\n",
        "        return np.mean(y_pred == y_true)\n",
        "    elif y_pred.ndim == 2:\n",
        "        return np.mean(np.argmax(y_pred, axis=1), y_true)"
      ],
      "metadata": {
        "id": "qspbDLh5TFyv"
      },
      "execution_count": null,
      "outputs": []
    },
    {
      "cell_type": "code",
      "source": [
        "def load_CIFAR10H(model_name):\n",
        "    \"\"\" Loads the CIFAR-10H predictions (human and model) and true labels.\n",
        "    \"\"\"\n",
        "    if model_name == 'r_low_acc':\n",
        "        data_path = 'cifar10h/human_model_truth_cifar10h.csv'\n",
        "        data = np.genfromtxt(data_path, delimiter=',')\n",
        "\n",
        "        human_counts = data[:, :10]\n",
        "        model_probs = data[:, 10:20]\n",
        "        true_labels = data[:, -1]\n",
        "\n",
        "        true_labels -= 1  # data has labels 1-10 -- shifting so that they are zero-indexed.\n",
        "    else:\n",
        "        data_path = f'cifar10h/{model_name}.csv'\n",
        "        data = np.genfromtxt(data_path, delimiter=',')\n",
        "\n",
        "        true_labels = data[:, 0]\n",
        "        human_counts = data[:, 1:11]\n",
        "        model_probs = data[:, 11:]\n",
        "\n",
        "    true_labels = true_labels.astype(int)\n",
        "\n",
        "    return human_counts, model_probs, true_labels"
      ],
      "metadata": {
        "id": "h8VyJo8xSGbK"
      },
      "execution_count": null,
      "outputs": []
    },
    {
      "cell_type": "code",
      "source": [
        "def simulate_single_human(human_counts, seed=0):\n",
        "    rng = np.random.default_rng(seed)\n",
        "\n",
        "    human_labels_per_input = np.sum(human_counts, axis=1)\n",
        "    min_human_labels = int(min(human_labels_per_input))\n",
        "    n_rows = human_counts.shape[0]\n",
        "    n_classes = human_counts.shape[1]\n",
        "\n",
        "    human_labels = np.empty(shape=(n_rows, min_human_labels))\n",
        "    for row in range(n_rows):\n",
        "        temp = []\n",
        "        for i in range(n_classes):\n",
        "            temp += [i] * int(human_counts[row, i])\n",
        "        rng.shuffle(temp)\n",
        "        human_labels[row, :] = temp[:min_human_labels]\n",
        "\n",
        "    return human_labels[:, 0].astype(int)"
      ],
      "metadata": {
        "id": "KkgFnufQSRsg"
      },
      "execution_count": null,
      "outputs": []
    },
    {
      "cell_type": "code",
      "source": [
        "def _run_experiment(y_h=None, model_probs=None, y_true=None, **kwargs):\n",
        "    seed = kwargs.pop('seed', 0)\n",
        "    n_runs = kwargs.pop('n_runs', 25)\n",
        "    test_size = kwargs.pop('test_size', 0.3)\n",
        "    calibration_methods = kwargs.pop('calibration_methods', ['none'])\n",
        "    output_file_acc = kwargs.pop('output_file_acc', './acc.csv')\n",
        "\n",
        "    # classes = ['plane', 'car', 'bird', 'cat', 'deer', 'dog', 'frog', 'horse', 'ship', 'truck']\n",
        "    # header_acc = ['human', 'model'] + classes\n",
        "\n",
        "    miss_cost = 9\n",
        "    human_cost = 1\n",
        "\n",
        "    acc_data = []\n",
        "    for i in tqdm(range(n_runs), leave=False, desc='Runs'):\n",
        "        # Train/test split\n",
        "        y_h_tr, y_h_te, model_probs_tr, model_probs_te, y_true_tr, y_true_te = train_test_split(\n",
        "            y_h, model_probs, y_true, test_size=test_size, random_state=i * seed)\n",
        "\n",
        "        acc_h = get_acc(y_h_te, y_true_te)\n",
        "        acc_m = get_acc(np.argmax(model_probs_te, axis=1), y_true_te)\n",
        "\n",
        "        _acc_data = [acc_h, acc_m]\n",
        "        for calibration_method in calibration_methods:\n",
        "            \n",
        "            combiner = OracleCombiner(calibration_method=calibration_method)\n",
        "\n",
        "            combiner.fit(model_probs_tr, y_h_tr, y_true_tr)\n",
        "\n",
        "            y_comb_te, result = combiner.combine(model_probs_te, y_h_te, y_true_te, miss_cost, human_cost)\n",
        "            acc_comb = get_acc(y_comb_te, y_true_te)\n",
        "            _acc_data.append(acc_comb)\n",
        "            _acc_data += list(result.values())\n",
        "\n",
        "        acc_data += [_acc_data]\n",
        "\n",
        "    # Save data to CSV\n",
        "    header_acc = ['human', 'model'] + [f'comb {cal_m}' for cal_m in calibration_methods] + list(result.keys())\n",
        "    with open(output_file_acc, 'w', newline='') as f:\n",
        "        writer = csv.writer(f)\n",
        "        writer.writerow(header_acc)\n",
        "        writer.writerows(acc_data)"
      ],
      "metadata": {
        "id": "P464qp0MSWU9"
      },
      "execution_count": null,
      "outputs": []
    },
    {
      "cell_type": "code",
      "source": [
        "def run_experiment_cifar10(out_fpath=None, experiment_args=None, seed=0):\n",
        "    model_names = [\n",
        "                   'r_low_acc', \n",
        "                  #  'resnet-110', \n",
        "                  #  'preresnet-110', \n",
        "                  #  'densenet-bc-L190-k40'\n",
        "                   ]\n",
        "\n",
        "    for model_name in tqdm(model_names, desc='Models', leave=True):\n",
        "        # Specify output files\n",
        "        output_file_acc = out_fpath + f'{model_name}_accuracy.csv'\n",
        "        assert not os.path.exists(output_file_acc), 'Output filepath already exists'\n",
        "        experiment_args['output_file_acc'] = output_file_acc\n",
        "\n",
        "        # Load data\n",
        "        human_counts, model_probs, y_true = load_CIFAR10H(model_name) # data_utils.py\n",
        "        y_h = simulate_single_human(human_counts, seed=seed)\n",
        "\n",
        "        # _run_experiment(y_h=y_h, model_probs=model_probs, y_true=y_true, **experiment_args)\n",
        "        return model_probs, y_true, y_h"
      ],
      "metadata": {
        "id": "33bBeSc3Rs2k"
      },
      "execution_count": null,
      "outputs": []
    },
    {
      "cell_type": "code",
      "source": [
        "seed = 9658\n",
        "torch.manual_seed(seed)\n",
        "np.random.seed(seed)\n",
        "\n",
        "calibration_methods = [\n",
        "    'temperature scaling'\n",
        "    ]\n",
        "\n",
        "args = {\n",
        "    'n_runs': 1,\n",
        "    'test_size': 0.3,\n",
        "    'calibration_methods': calibration_methods,\n",
        "    'seed': seed\n",
        "        }\n"
      ],
      "metadata": {
        "id": "tiznRx8sQSai"
      },
      "execution_count": null,
      "outputs": []
    },
    {
      "cell_type": "code",
      "source": [
        "# !git clone https://github.com/GavinKerrigan/conf_matrix_and_calibration.git\n",
        "# !mv /content/conf_matrix_and_calibration/cifar10h .\n",
        "# !rm -R /content/conf_matrix_and_calibration\n",
        "# !mkdir output"
      ],
      "metadata": {
        "id": "FuQBBNmvcD6a"
      },
      "execution_count": null,
      "outputs": []
    },
    {
      "cell_type": "code",
      "source": [
        "# !rm -R output\n",
        "# !mkdir output"
      ],
      "metadata": {
        "id": "L8KwNm1td0BH"
      },
      "execution_count": null,
      "outputs": []
    },
    {
      "cell_type": "code",
      "source": [
        "out_fpath = './output/'\n",
        "model_probs, y_true, y_h = run_experiment_cifar10(out_fpath=out_fpath, experiment_args=args, seed=seed)"
      ],
      "metadata": {
        "colab": {
          "base_uri": "https://localhost:8080/",
          "height": 49,
          "referenced_widgets": [
            "32af20bd7da146f79524931c6811e244",
            "acc11d9e21794ecc9928373a34e2a496",
            "2ff27aacc64e4fb8886dfd367b508103",
            "e287a35db3264c0ca4ba2a167b6ba60e",
            "b4b8f39668d540f3a33049340128492b",
            "ef3f207611e34aed8e5fe9fedec7e185",
            "e213ee8ff9e2413ba8f008dd4aae6ee3",
            "938d8d08d0944a3f9552a79b13b3f1c2",
            "1378987989a94b39b790fcd966824e82",
            "ad879ccce409412ba42d3080c10a4b30",
            "f0870f8b31624757946050f7b158a61d"
          ]
        },
        "id": "G4j6OuahRA1u",
        "outputId": "344a7ed7-74db-42a9-a758-2b7647791aa1"
      },
      "execution_count": null,
      "outputs": [
        {
          "output_type": "display_data",
          "data": {
            "text/plain": [
              "Models:   0%|          | 0/1 [00:00<?, ?it/s]"
            ],
            "application/vnd.jupyter.widget-view+json": {
              "version_major": 2,
              "version_minor": 0,
              "model_id": "32af20bd7da146f79524931c6811e244"
            }
          },
          "metadata": {}
        }
      ]
    },
    {
      "cell_type": "code",
      "source": [
        "y_h, y_h_te, model_probs, model_probs_te, y_true, y_true_te = train_test_split(\n",
        "            y_h, model_probs, y_true, test_size=0.3, random_state=1 * seed)"
      ],
      "metadata": {
        "id": "qTtuFZDvjGmv"
      },
      "execution_count": null,
      "outputs": []
    },
    {
      "cell_type": "code",
      "source": [
        "y_h.shape"
      ],
      "metadata": {
        "colab": {
          "base_uri": "https://localhost:8080/"
        },
        "id": "o-Y1oWgTj5GG",
        "outputId": "675cf02f-d627-4e1c-acae-4728c00dc6c5"
      },
      "execution_count": null,
      "outputs": [
        {
          "output_type": "execute_result",
          "data": {
            "text/plain": [
              "(7000,)"
            ]
          },
          "metadata": {},
          "execution_count": 19
        }
      ]
    },
    {
      "cell_type": "code",
      "source": [
        "def print_classwise_accuracy(y_val, Y_pred):\n",
        "    classes = ('plane', 'car', 'bird', 'cat', 'deer', 'dog', 'frog', 'horse', 'ship', 'truck')\n",
        "    # prepare to count predictions for each class\n",
        "    correct_pred = {classname: 0 for classname in classes}\n",
        "    total_pred = {classname: 0 for classname in classes}\n",
        "\n",
        "    for label, prediction in zip(y_val, Y_pred):\n",
        "        if label == prediction:\n",
        "            correct_pred[classes[label]] += 1\n",
        "        total_pred[classes[label]] += 1\n",
        "\n",
        "\n",
        "    # print accuracy for each class\n",
        "    for classname, correct_count in correct_pred.items():\n",
        "        accuracy = 100 * float(correct_count) / total_pred[classname]\n",
        "        print(f'Accuracy for class: {classname:5s} of size {total_pred[classname]} is {accuracy:.1f} %')"
      ],
      "metadata": {
        "id": "yW5IEgHOT4KT"
      },
      "execution_count": null,
      "outputs": []
    },
    {
      "cell_type": "code",
      "source": [
        "# Classwise accuracy of human\n",
        "print_classwise_accuracy(y_true, y_h)"
      ],
      "metadata": {
        "colab": {
          "base_uri": "https://localhost:8080/"
        },
        "id": "OEUHdnZtUIfx",
        "outputId": "2ded476a-121a-4eb4-dc47-b4a3fd7bafff"
      },
      "execution_count": null,
      "outputs": [
        {
          "output_type": "stream",
          "name": "stdout",
          "text": [
            "Accuracy for class: plane of size 687 is 96.4 %\n",
            "Accuracy for class: car   of size 724 is 98.2 %\n",
            "Accuracy for class: bird  of size 706 is 95.5 %\n",
            "Accuracy for class: cat   of size 695 is 90.6 %\n",
            "Accuracy for class: deer  of size 711 is 90.6 %\n",
            "Accuracy for class: dog   of size 687 is 94.5 %\n",
            "Accuracy for class: frog  of size 693 is 95.4 %\n",
            "Accuracy for class: horse of size 688 is 97.8 %\n",
            "Accuracy for class: ship  of size 710 is 98.2 %\n",
            "Accuracy for class: truck of size 699 is 97.9 %\n"
          ]
        }
      ]
    },
    {
      "cell_type": "code",
      "source": [
        "# classwise accuracy of model\n",
        "print_classwise_accuracy(y_true, np.argmax(model_probs, axis=1))"
      ],
      "metadata": {
        "colab": {
          "base_uri": "https://localhost:8080/"
        },
        "id": "KPOWM8iVUhcw",
        "outputId": "ae6b6398-cc5b-47ce-a53d-18009163173f"
      },
      "execution_count": null,
      "outputs": [
        {
          "output_type": "stream",
          "name": "stdout",
          "text": [
            "Accuracy for class: plane of size 687 is 89.8 %\n",
            "Accuracy for class: car   of size 724 is 95.0 %\n",
            "Accuracy for class: bird  of size 706 is 86.8 %\n",
            "Accuracy for class: cat   of size 695 is 75.1 %\n",
            "Accuracy for class: deer  of size 711 is 90.3 %\n",
            "Accuracy for class: dog   of size 687 is 83.8 %\n",
            "Accuracy for class: frog  of size 693 is 92.1 %\n",
            "Accuracy for class: horse of size 688 is 90.8 %\n",
            "Accuracy for class: ship  of size 710 is 94.1 %\n",
            "Accuracy for class: truck of size 699 is 92.7 %\n"
          ]
        }
      ]
    },
    {
      "cell_type": "code",
      "source": [
        "Y_model_pred = np.argmax(model_probs, axis=1)\n",
        "cat_confidence = []\n",
        "for i in range(Y_model_pred.shape[0]):\n",
        "    if(Y_model_pred[i] == 3):\n",
        "        cat_confidence.append(model_probs[i][3]*100)"
      ],
      "metadata": {
        "id": "z_cpCN6-beSd"
      },
      "execution_count": null,
      "outputs": []
    },
    {
      "cell_type": "code",
      "source": [
        "import matplotlib.pyplot as plt\n",
        "%matplotlib inline\n",
        "# plt.rcParams.update({'figure.figsize':(7,5), 'figure.dpi':100})\n",
        "\n",
        "# # Plot Histogram on x\n",
        "# plt.hist(cat_confidence, bins=10)\n",
        "# plt.gca().set(title='Machine learning model confidence distribution on 75% accuracy', xlabel='Machine learning model confidence', ylabel='Frequency');"
      ],
      "metadata": {
        "id": "vY8LPMM2dT85"
      },
      "execution_count": null,
      "outputs": []
    },
    {
      "cell_type": "code",
      "source": [
        "eps = 1e-50\n",
        "k = 70\n",
        "calibrator = TSCalibrator(n_clusters=k)\n",
        "clipped_model_probs = np.clip(model_probs, eps, 1)\n",
        "model_logits = np.log(clipped_model_probs)"
      ],
      "metadata": {
        "id": "YSzsPpgCVMHu"
      },
      "execution_count": null,
      "outputs": []
    },
    {
      "cell_type": "code",
      "source": [
        "kmeans = KMeans(n_clusters=k, random_state=0).fit(model_logits)"
      ],
      "metadata": {
        "id": "0u5sCPuTWHVK"
      },
      "execution_count": null,
      "outputs": []
    },
    {
      "cell_type": "code",
      "source": [
        "_model_logits = []\n",
        "_model_probs = []\n",
        "_y_h = []\n",
        "_y_true = []\n",
        "_T = []\n",
        "_conf_h = []\n",
        "# initialise\n",
        "for _ in range(k):\n",
        "    _model_logits.append([])\n",
        "    _model_probs.append([])\n",
        "    _y_h.append([])\n",
        "    _y_true.append([])\n",
        "    calibrator.temperature.append(1.0)\n",
        "    _T.append(1)"
      ],
      "metadata": {
        "id": "qQo0yvPfWKKV"
      },
      "execution_count": null,
      "outputs": []
    },
    {
      "cell_type": "code",
      "source": [
        "np.array(_y_true[0])\n",
        "np.array(_y_h[0])"
      ],
      "metadata": {
        "colab": {
          "base_uri": "https://localhost:8080/"
        },
        "id": "_gdz9uScu_vX",
        "outputId": "7eb9f3c9-b3cb-4dfb-d719-82bc80c5a345"
      },
      "execution_count": null,
      "outputs": [
        {
          "output_type": "execute_result",
          "data": {
            "text/plain": [
              "array([], dtype=float64)"
            ]
          },
          "metadata": {},
          "execution_count": 28
        }
      ]
    },
    {
      "cell_type": "code",
      "source": [
        "# group based on clusters    \n",
        "for i in range(kmeans.labels_.shape[0]):\n",
        "    cluster_center = kmeans.labels_[i]\n",
        "    _model_logits[cluster_center].append(model_logits[i])\n",
        "    _y_true[cluster_center].append(y_true[i])\n",
        "    _model_probs[cluster_center].append(model_probs[i])\n",
        "    _y_h[cluster_center].append(y_h[i])\n",
        "\n",
        "# Calculater T corresponding to each cluster\n",
        "for cluster in range(0, k):\n",
        "    _T[cluster] = calibrator.fitHelper(np.array(_model_logits[cluster]), np.array(_y_true[cluster]), cluster)\n",
        "    \n",
        "    conf_h = 1. * confusion_matrix(np.array(_y_true[cluster]), np.array(_y_h[cluster]), labels=np.arange(10))\n",
        "    # Swap so entry [i, j] is #(h = i and Y = j)\n",
        "    conf_h = conf_h.T\n",
        "    conf_h = np.clip(conf_h, 1e-50, None)\n",
        "    normalizer = np.sum(conf_h, axis=0, keepdims=True)\n",
        "    # Normalize columns so entry [i, j] is P(h = i | Y = j)\n",
        "    conf_h /= normalizer\n",
        "    _conf_h.append(conf_h)"
      ],
      "metadata": {
        "id": "VLkvlpmjkRoT"
      },
      "execution_count": null,
      "outputs": []
    },
    {
      "cell_type": "code",
      "source": [
        "# Clusterwise accuracy\n",
        "cluster_number = []\n",
        "cluster_size = []\n",
        "cluster_human_acc = []\n",
        "cluster_model_acc = []\n",
        "\n",
        "for i in range(0, 70):\n",
        "    size = len(_y_true[i])\n",
        "    human_acc = np.mean(np.array(_y_h[i]) == np.array(_y_true[i]))\n",
        "    model_acc = np.mean(np.argmax(np.array(_model_probs[i]), axis=1) == np.array(_y_true[i]))\n",
        "    if(model_acc + 0.04 < human_acc ):\n",
        "        cluster_number.append(i)\n",
        "        cluster_size.append(size)\n",
        "        cluster_human_acc.append(human_acc)\n",
        "        cluster_model_acc.append(model_acc)\n",
        "    # print(\"cluster size: {}  human_acc: {}  model_acc: {}\".format(size, round(human_acc, 3), round(model_acc, 3)))\n",
        "\n",
        "import pandas as pd\n",
        "df = pd.DataFrame(list(zip(cluster_number, cluster_size, cluster_human_acc, cluster_model_acc)),columns =['Cluster', 'Cluster size', 'Human Accuracy', 'Model Accuracy'])"
      ],
      "metadata": {
        "id": "uV0Ltx9-lHpO"
      },
      "execution_count": null,
      "outputs": []
    },
    {
      "cell_type": "code",
      "source": [
        "df.to_csv('output.csv')"
      ],
      "metadata": {
        "id": "RtPEv9qgsBBK"
      },
      "execution_count": null,
      "outputs": []
    },
    {
      "cell_type": "code",
      "source": [
        "# Confidence distributation of cluster 16\n",
        "cluster_confidence = np.amax(_model_probs[0], axis=1)\n",
        "plt.rcParams.update({'figure.figsize':(7,5), 'figure.dpi':100})\n",
        "\n",
        "# Plot Histogram on x\n",
        "plt.hist(cluster_confidence, bins=10)\n",
        "plt.gca().set(title='Machine learning model confidence distribution on 96% accuracy', xlabel='Machine learning model confidence', ylabel='Frequency');"
      ],
      "metadata": {
        "colab": {
          "base_uri": "https://localhost:8080/",
          "height": 480
        },
        "id": "r6rKvVPdk5jB",
        "outputId": "233053d3-3bb3-4884-a91b-51fe8f107fc0"
      },
      "execution_count": null,
      "outputs": [
        {
          "output_type": "display_data",
          "data": {
            "text/plain": [
              "<Figure size 700x500 with 1 Axes>"
            ],
            "image/png": "[encoded data removed]"
          },
          "metadata": {
            "needs_background": "light"
          }
        }
      ]
    },
    {
      "cell_type": "code",
      "source": [
        "# After applying temperature scaling\n",
        "cluster_calibrated_probs = np.array(_model_probs[0]) ** (1. / _T[0])  # Temper\n",
        "cluster_calibrated_probs /= np.sum(cluster_calibrated_probs, axis=1, keepdims=True)\n",
        "\n",
        "# Confidence distributation of cluster 16\n",
        "cluster_confidence = np.amax(cluster_calibrated_probs, axis=1)\n",
        "plt.rcParams.update({'figure.figsize':(7,5), 'figure.dpi':100})\n",
        "\n",
        "# Plot Histogram on x\n",
        "plt.hist(cluster_confidence, bins=10)\n",
        "plt.gca().set(title='Machine learning model confidence distribution on 96% accuracy', xlabel='Machine learning model confidence', ylabel='Frequency');"
      ],
      "metadata": {
        "colab": {
          "base_uri": "https://localhost:8080/",
          "height": 480
        },
        "id": "V_k5WZxlnQyV",
        "outputId": "01f17734-9abb-4222-fb51-86d5d75e71a4"
      },
      "execution_count": null,
      "outputs": [
        {
          "output_type": "display_data",
          "data": {
            "text/plain": [
              "<Figure size 700x500 with 1 Axes>"
            ],
            "image/png": "[encoded data removed]"
          },
          "metadata": {
            "needs_background": "light"
          }
        }
      ]
    },
    {
      "cell_type": "code",
      "source": [
        "clipped_model_probs = np.clip(model_probs_te, eps, 1)\n",
        "model_logits = np.log(clipped_model_probs)\n",
        "labels = kmeans.predict(model_logits)"
      ],
      "metadata": {
        "id": "lGET3wt3kSzP"
      },
      "execution_count": null,
      "outputs": []
    },
    {
      "cell_type": "code",
      "source": [
        "for i in range(model_probs_te.shape[0]):\n",
        "    model_probs_te[i] = model_probs_te[i] ** (1. / _T[labels[i]])\n",
        "\n",
        "model_probs_te /= np.sum(model_probs_te, axis=1, keepdims=True)  # Normalize"
      ],
      "metadata": {
        "id": "eI8CkdwtiY2i"
      },
      "execution_count": null,
      "outputs": []
    },
    {
      "cell_type": "code",
      "source": [
        "# Human or model\n",
        "for human_cost in tqdm(range(1, 100)):\n",
        "    for miss_cost in range(human_cost+1, 100):\n",
        "\n",
        "        human_refered = 0\n",
        "        model_refered = 0\n",
        "\n",
        "        Y_pred = np.argmax(model_probs_te, axis=1)\n",
        "        y_comb = []\n",
        "        for i in range(labels.shape[0]):\n",
        "            P_X = miss_cost * (1 - model_probs_te[i][Y_pred[i]])\n",
        "            if(human_cost <= P_X):\n",
        "                human_refered += 1\n",
        "                y_comb.append(y_h_te[i])\n",
        "            else:\n",
        "                model_refered += 1\n",
        "                y_comb.append(Y_pred[i])\n",
        "        \n",
        "        acc = np.mean(y_comb == y_true_te)\n",
        "        if acc >= .96:\n",
        "            print(\"{}, {}, {}, {}, {}\".format(human_cost, miss_cost, acc, human_refered, model_refered))"
      ],
      "metadata": {
        "id": "jILQ-VCLqCyl"
      },
      "execution_count": null,
      "outputs": []
    },
    {
      "cell_type": "code",
      "source": [
        "conf_h = 1. * confusion_matrix(y_true, y_h, labels=np.arange(10))\n",
        "# Swap so entry [i, j] is #(h = i and Y = j)\n",
        "conf_h = conf_h.T\n",
        "conf_h = np.clip(conf_h, 1e-50, None)\n",
        "normalizer = np.sum(conf_h, axis=0, keepdims=True)\n",
        "# Normalize columns so entry [i, j] is P(h = i | Y = j)\n",
        "conf_h /= normalizer\n",
        "\n",
        "y_comb = np.empty((3000, 10))\n",
        "Y_pred = np.argmax(model_probs_te, axis=1)\n",
        "\n",
        "# Human or model\n",
        "for human_cost in tqdm(range(2, 100)):\n",
        "    for miss_cost in range(human_cost, 100):\n",
        "        human_refered = 0\n",
        "        model_refered = 0\n",
        "\n",
        "        for i in range(3000):\n",
        "            P_X = miss_cost * (1 - model_probs_te[i][Y_pred[i]])\n",
        "            if(human_cost <= P_X):\n",
        "                y_comb[i] = model_probs_te[i] * conf_h[y_h_te[i]]\n",
        "                human_refered += 1\n",
        "            else:\n",
        "                y_comb[i] = model_probs_te[i]\n",
        "                model_refered += 1\n",
        "\n",
        "            if np.allclose(y_comb[i], 0):  # Handle zero rows\n",
        "                y_comb[i] = np.ones(10) * (1./10)\n",
        "\n",
        "        acc = np.mean(np.argmax(y_comb, axis=1) == y_true_te)\n",
        "        if acc >= .979:\n",
        "            print(\"{}, {}, {}, {}, {}\".format(human_cost, miss_cost, acc, human_refered, model_refered))"
      ],
      "metadata": {
        "id": "CWmnXim3IB0o"
      },
      "execution_count": null,
      "outputs": []
    },
    {
      "cell_type": "code",
      "source": [
        "y_comb = np.empty((3000, 10))\n",
        "Y_pred = np.argmax(model_probs_te, axis=1)\n",
        "\n",
        "# Human or model\n",
        "for human_cost in tqdm(range(2, 100)):\n",
        "    for miss_cost in range(human_cost, 100):\n",
        "        human_refered = 0\n",
        "        model_refered = 0\n",
        "\n",
        "        for i in range(3000):\n",
        "            P_X = miss_cost * (1 - model_probs_te[i][Y_pred[i]])\n",
        "            if(human_cost <= P_X):\n",
        "                y_comb[i] = model_probs_te[i] * _conf_h[labels[i]][y_h_te[i]]\n",
        "                human_refered += 1\n",
        "            else:\n",
        "                y_comb[i] = model_probs_te[i]\n",
        "                model_refered += 1\n",
        "\n",
        "            if np.allclose(y_comb[i], 0):  # Handle zero rows\n",
        "                y_comb[i] = np.ones(10) * (1./10)\n",
        "\n",
        "        acc = np.mean(np.argmax(y_comb, axis=1) == y_true_te)\n",
        "        if acc >= .971:\n",
        "            print(\"{}, {}, {}, {}, {}\".format(human_cost, miss_cost, acc, human_refered, model_refered))"
      ],
      "metadata": {
        "id": "wkZOrouauWSS"
      },
      "execution_count": null,
      "outputs": []
    },
    {
      "cell_type": "code",
      "source": [
        "# import pandas as pd\n",
        "\n",
        "# df1 = pd.read_csv('/content/output/r_low_acc_accuracy.csv')\n",
        "# df2 = pd.read_csv('/content/output/resnet-110_accuracy.csv')\n",
        "# df3 = pd.read_csv('/content/output/preresnet-110_accuracy.csv')\n",
        "# df4 = pd.read_csv('/content/output/densenet-bc-L190-k40_accuracy.csv')"
      ],
      "metadata": {
        "id": "Ihp6Q8BNcrM2"
      },
      "execution_count": null,
      "outputs": []
    },
    {
      "cell_type": "code",
      "source": [
        "# name = [];\n",
        "# prices = [];\n",
        "# r1 = df2.mean(axis=0)\n",
        "# for key in r1.keys():\n",
        "#     if(r1[key] < 1):\n",
        "#         name.append(key)\n",
        "#         prices.append(100 - r1[key] * 100)\n",
        "\n",
        "# name = np.array(name)\n",
        "# prices = np.array(prices)"
      ],
      "metadata": {
        "id": "P-9aLb3_eH-x"
      },
      "execution_count": null,
      "outputs": []
    },
    {
      "cell_type": "code",
      "source": [
        "# r1.keys()"
      ],
      "metadata": {
        "id": "JL9l13lZf-QH"
      },
      "execution_count": null,
      "outputs": []
    },
    {
      "cell_type": "code",
      "source": [
        "# name1 = ['Human Error', 'Model Error', 'Combined Error']\n",
        "# prices1 = [100 - r1['human']*100, 100 - r1['model']*100, 100 - r1['Combined accuracy']*100]\n",
        "\n",
        "# name2 = ['Human refered', 'Model refered']\n",
        "# prices2 = [r1['Human refered'], r1['Model refered']]"
      ],
      "metadata": {
        "id": "8JMxdv7hfFdd"
      },
      "execution_count": null,
      "outputs": []
    },
    {
      "cell_type": "code",
      "source": [
        "\n",
        "# import pandas as pd\n",
        "# from matplotlib import pyplot as plt\n",
        "\n",
        "# # Figure Size\n",
        "# fig, ax = plt.subplots(figsize =(5, 4))\n",
        " \n",
        "# # Horizontal Bar Plot\n",
        "# ax.barh(name2, prices2)\n",
        " \n",
        "# # Remove axes splines\n",
        "# for s in ['top', 'bottom', 'left', 'right']:\n",
        "#     ax.spines[s].set_visible(False)\n",
        "# # Remove x, y Ticks\n",
        "# ax.xaxis.set_ticks_position('none')\n",
        "# ax.yaxis.set_ticks_position('none')\n",
        " \n",
        "# # Add padding between axes and labels\n",
        "# ax.xaxis.set_tick_params(pad = 5)\n",
        "# ax.yaxis.set_tick_params(pad = 10)\n",
        " \n",
        "# # Add x, y gridlines\n",
        "# ax.grid(b = True, color ='grey',\n",
        "#         linestyle ='-.', linewidth = 0.5,\n",
        "#         alpha = 0.2)\n",
        " \n",
        "# # Show top values\n",
        "# ax.invert_yaxis()\n",
        " \n",
        "# # Add annotation to bars\n",
        "# for i in ax.patches:\n",
        "#     plt.text(i.get_width()+0.2, i.get_y()+0.5,\n",
        "#              str(round((i.get_width()), 2)),\n",
        "#              fontsize = 10, fontweight ='bold',\n",
        "#              color ='grey')\n",
        " \n",
        "# # # Add Plot Title\n",
        "# # ax.set_title('Error Rate(%) on CIFAR-10H dataset',\n",
        "# #              loc ='left', )\n",
        " \n",
        "# # # Add Text watermark\n",
        "# # fig.text(0.9, 0.15, 'Jeeteshgavande30', fontsize = 12,\n",
        "# #          color ='grey', ha ='right', va ='bottom',\n",
        "# #          alpha = 0.7)\n",
        " \n",
        "# # Show Plot\n",
        "# plt.show()"
      ],
      "metadata": {
        "id": "LSVbPhqAHBDV"
      },
      "execution_count": null,
      "outputs": []
    },
    {
      "cell_type": "code",
      "source": [
        "# r4 = df1.mean(axis=0)"
      ],
      "metadata": {
        "id": "fnIJMylsHPWJ"
      },
      "execution_count": null,
      "outputs": []
    },
    {
      "cell_type": "code",
      "source": [
        "# r4 = df2.mean(axis=0)"
      ],
      "metadata": {
        "id": "csPT2Jt8emUX"
      },
      "execution_count": null,
      "outputs": []
    },
    {
      "cell_type": "code",
      "source": [
        "# r4 = df3.mean(axis=0)"
      ],
      "metadata": {
        "id": "AD0IontA_0oz"
      },
      "execution_count": null,
      "outputs": []
    },
    {
      "cell_type": "code",
      "source": [
        "# r4 = df4.mean(axis=0)"
      ],
      "metadata": {
        "id": "dBJR-T34_1Fw"
      },
      "execution_count": null,
      "outputs": []
    },
    {
      "cell_type": "code",
      "source": [
        "# for keys in r4.keys():\n",
        "#     if(r4[keys] < 1.0):\n",
        "#       print(\"{}, {}\".format(keys, r4[keys]*100))\n",
        "#     else:\n",
        "#       print(\"{}, {}\".format(keys, r4[keys]))"
      ],
      "metadata": {
        "id": "3wviJuCs_6nr"
      },
      "execution_count": null,
      "outputs": []
    },
    {
      "cell_type": "markdown",
      "source": [
        "### Clustering"
      ],
      "metadata": {
        "id": "fZ5CdVxVTgtX"
      }
    },
    {
      "cell_type": "code",
      "source": [],
      "metadata": {
        "id": "NyrVbqIvMfsO"
      },
      "execution_count": null,
      "outputs": []
    }
  ]
}