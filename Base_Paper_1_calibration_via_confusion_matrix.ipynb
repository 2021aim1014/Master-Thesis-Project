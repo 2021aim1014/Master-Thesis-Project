{
  "nbformat": 4,
  "nbformat_minor": 0,
  "metadata": {
    "colab": {
      "provenance": [],
      "authorship_tag": "ABX9TyOXLaiK5PXYJWoH8CM0GXCI",
      "include_colab_link": true
    },
    "kernelspec": {
      "name": "python3",
      "display_name": "Python 3"
    },
    "language_info": {
      "name": "python"
    },
    "widgets": {
      "application/vnd.jupyter.widget-state+json": {
        "3379eb555d4e4766b4c47c6062c1f116": {
          "model_module": "@jupyter-widgets/controls",
          "model_name": "HBoxModel",
          "model_module_version": "1.5.0",
          "state": {
            "_dom_classes": [],
            "_model_module": "@jupyter-widgets/controls",
            "_model_module_version": "1.5.0",
            "_model_name": "HBoxModel",
            "_view_count": null,
            "_view_module": "@jupyter-widgets/controls",
            "_view_module_version": "1.5.0",
            "_view_name": "HBoxView",
            "box_style": "",
            "children": [
              "IPY_MODEL_2c8a427497064f3a9f76a001fa151e8e",
              "IPY_MODEL_84674b75b18142ed800679cfb688b061",
              "IPY_MODEL_62d9ea75f04e4121bc1fc55f144feb9e"
            ],
            "layout": "IPY_MODEL_079e9a9285704c898bab387870cac0d0"
          }
        },
        "2c8a427497064f3a9f76a001fa151e8e": {
          "model_module": "@jupyter-widgets/controls",
          "model_name": "HTMLModel",
          "model_module_version": "1.5.0",
          "state": {
            "_dom_classes": [],
            "_model_module": "@jupyter-widgets/controls",
            "_model_module_version": "1.5.0",
            "_model_name": "HTMLModel",
            "_view_count": null,
            "_view_module": "@jupyter-widgets/controls",
            "_view_module_version": "1.5.0",
            "_view_name": "HTMLView",
            "description": "",
            "description_tooltip": null,
            "layout": "IPY_MODEL_1ae26525819f4dc4bbe84d2f870ca2c1",
            "placeholder": "​",
            "style": "IPY_MODEL_e1dc221db9eb4e598ad0973fc3ebb258",
            "value": "Models: 100%"
          }
        },
        "84674b75b18142ed800679cfb688b061": {
          "model_module": "@jupyter-widgets/controls",
          "model_name": "FloatProgressModel",
          "model_module_version": "1.5.0",
          "state": {
            "_dom_classes": [],
            "_model_module": "@jupyter-widgets/controls",
            "_model_module_version": "1.5.0",
            "_model_name": "FloatProgressModel",
            "_view_count": null,
            "_view_module": "@jupyter-widgets/controls",
            "_view_module_version": "1.5.0",
            "_view_name": "ProgressView",
            "bar_style": "success",
            "description": "",
            "description_tooltip": null,
            "layout": "IPY_MODEL_bd90c984883e42f1b54062a321be97ea",
            "max": 4,
            "min": 0,
            "orientation": "horizontal",
            "style": "IPY_MODEL_09561068385a4f11964ee419f9ac23ec",
            "value": 4
          }
        },
        "62d9ea75f04e4121bc1fc55f144feb9e": {
          "model_module": "@jupyter-widgets/controls",
          "model_name": "HTMLModel",
          "model_module_version": "1.5.0",
          "state": {
            "_dom_classes": [],
            "_model_module": "@jupyter-widgets/controls",
            "_model_module_version": "1.5.0",
            "_model_name": "HTMLModel",
            "_view_count": null,
            "_view_module": "@jupyter-widgets/controls",
            "_view_module_version": "1.5.0",
            "_view_name": "HTMLView",
            "description": "",
            "description_tooltip": null,
            "layout": "IPY_MODEL_e8de1eadfff34b3aa4dc03c7c73436e3",
            "placeholder": "​",
            "style": "IPY_MODEL_3bda4d46c96f4e5eb542093c6b377087",
            "value": " 4/4 [00:02&lt;00:00,  1.55it/s]"
          }
        },
        "079e9a9285704c898bab387870cac0d0": {
          "model_module": "@jupyter-widgets/base",
          "model_name": "LayoutModel",
          "model_module_version": "1.2.0",
          "state": {
            "_model_module": "@jupyter-widgets/base",
            "_model_module_version": "1.2.0",
            "_model_name": "LayoutModel",
            "_view_count": null,
            "_view_module": "@jupyter-widgets/base",
            "_view_module_version": "1.2.0",
            "_view_name": "LayoutView",
            "align_content": null,
            "align_items": null,
            "align_self": null,
            "border": null,
            "bottom": null,
            "display": null,
            "flex": null,
            "flex_flow": null,
            "grid_area": null,
            "grid_auto_columns": null,
            "grid_auto_flow": null,
            "grid_auto_rows": null,
            "grid_column": null,
            "grid_gap": null,
            "grid_row": null,
            "grid_template_areas": null,
            "grid_template_columns": null,
            "grid_template_rows": null,
            "height": null,
            "justify_content": null,
            "justify_items": null,
            "left": null,
            "margin": null,
            "max_height": null,
            "max_width": null,
            "min_height": null,
            "min_width": null,
            "object_fit": null,
            "object_position": null,
            "order": null,
            "overflow": null,
            "overflow_x": null,
            "overflow_y": null,
            "padding": null,
            "right": null,
            "top": null,
            "visibility": null,
            "width": null
          }
        },
        "1ae26525819f4dc4bbe84d2f870ca2c1": {
          "model_module": "@jupyter-widgets/base",
          "model_name": "LayoutModel",
          "model_module_version": "1.2.0",
          "state": {
            "_model_module": "@jupyter-widgets/base",
            "_model_module_version": "1.2.0",
            "_model_name": "LayoutModel",
            "_view_count": null,
            "_view_module": "@jupyter-widgets/base",
            "_view_module_version": "1.2.0",
            "_view_name": "LayoutView",
            "align_content": null,
            "align_items": null,
            "align_self": null,
            "border": null,
            "bottom": null,
            "display": null,
            "flex": null,
            "flex_flow": null,
            "grid_area": null,
            "grid_auto_columns": null,
            "grid_auto_flow": null,
            "grid_auto_rows": null,
            "grid_column": null,
            "grid_gap": null,
            "grid_row": null,
            "grid_template_areas": null,
            "grid_template_columns": null,
            "grid_template_rows": null,
            "height": null,
            "justify_content": null,
            "justify_items": null,
            "left": null,
            "margin": null,
            "max_height": null,
            "max_width": null,
            "min_height": null,
            "min_width": null,
            "object_fit": null,
            "object_position": null,
            "order": null,
            "overflow": null,
            "overflow_x": null,
            "overflow_y": null,
            "padding": null,
            "right": null,
            "top": null,
            "visibility": null,
            "width": null
          }
        },
        "e1dc221db9eb4e598ad0973fc3ebb258": {
          "model_module": "@jupyter-widgets/controls",
          "model_name": "DescriptionStyleModel",
          "model_module_version": "1.5.0",
          "state": {
            "_model_module": "@jupyter-widgets/controls",
            "_model_module_version": "1.5.0",
            "_model_name": "DescriptionStyleModel",
            "_view_count": null,
            "_view_module": "@jupyter-widgets/base",
            "_view_module_version": "1.2.0",
            "_view_name": "StyleView",
            "description_width": ""
          }
        },
        "bd90c984883e42f1b54062a321be97ea": {
          "model_module": "@jupyter-widgets/base",
          "model_name": "LayoutModel",
          "model_module_version": "1.2.0",
          "state": {
            "_model_module": "@jupyter-widgets/base",
            "_model_module_version": "1.2.0",
            "_model_name": "LayoutModel",
            "_view_count": null,
            "_view_module": "@jupyter-widgets/base",
            "_view_module_version": "1.2.0",
            "_view_name": "LayoutView",
            "align_content": null,
            "align_items": null,
            "align_self": null,
            "border": null,
            "bottom": null,
            "display": null,
            "flex": null,
            "flex_flow": null,
            "grid_area": null,
            "grid_auto_columns": null,
            "grid_auto_flow": null,
            "grid_auto_rows": null,
            "grid_column": null,
            "grid_gap": null,
            "grid_row": null,
            "grid_template_areas": null,
            "grid_template_columns": null,
            "grid_template_rows": null,
            "height": null,
            "justify_content": null,
            "justify_items": null,
            "left": null,
            "margin": null,
            "max_height": null,
            "max_width": null,
            "min_height": null,
            "min_width": null,
            "object_fit": null,
            "object_position": null,
            "order": null,
            "overflow": null,
            "overflow_x": null,
            "overflow_y": null,
            "padding": null,
            "right": null,
            "top": null,
            "visibility": null,
            "width": null
          }
        },
        "09561068385a4f11964ee419f9ac23ec": {
          "model_module": "@jupyter-widgets/controls",
          "model_name": "ProgressStyleModel",
          "model_module_version": "1.5.0",
          "state": {
            "_model_module": "@jupyter-widgets/controls",
            "_model_module_version": "1.5.0",
            "_model_name": "ProgressStyleModel",
            "_view_count": null,
            "_view_module": "@jupyter-widgets/base",
            "_view_module_version": "1.2.0",
            "_view_name": "StyleView",
            "bar_color": null,
            "description_width": ""
          }
        },
        "e8de1eadfff34b3aa4dc03c7c73436e3": {
          "model_module": "@jupyter-widgets/base",
          "model_name": "LayoutModel",
          "model_module_version": "1.2.0",
          "state": {
            "_model_module": "@jupyter-widgets/base",
            "_model_module_version": "1.2.0",
            "_model_name": "LayoutModel",
            "_view_count": null,
            "_view_module": "@jupyter-widgets/base",
            "_view_module_version": "1.2.0",
            "_view_name": "LayoutView",
            "align_content": null,
            "align_items": null,
            "align_self": null,
            "border": null,
            "bottom": null,
            "display": null,
            "flex": null,
            "flex_flow": null,
            "grid_area": null,
            "grid_auto_columns": null,
            "grid_auto_flow": null,
            "grid_auto_rows": null,
            "grid_column": null,
            "grid_gap": null,
            "grid_row": null,
            "grid_template_areas": null,
            "grid_template_columns": null,
            "grid_template_rows": null,
            "height": null,
            "justify_content": null,
            "justify_items": null,
            "left": null,
            "margin": null,
            "max_height": null,
            "max_width": null,
            "min_height": null,
            "min_width": null,
            "object_fit": null,
            "object_position": null,
            "order": null,
            "overflow": null,
            "overflow_x": null,
            "overflow_y": null,
            "padding": null,
            "right": null,
            "top": null,
            "visibility": null,
            "width": null
          }
        },
        "3bda4d46c96f4e5eb542093c6b377087": {
          "model_module": "@jupyter-widgets/controls",
          "model_name": "DescriptionStyleModel",
          "model_module_version": "1.5.0",
          "state": {
            "_model_module": "@jupyter-widgets/controls",
            "_model_module_version": "1.5.0",
            "_model_name": "DescriptionStyleModel",
            "_view_count": null,
            "_view_module": "@jupyter-widgets/base",
            "_view_module_version": "1.2.0",
            "_view_name": "StyleView",
            "description_width": ""
          }
        }
      }
    }
  },
  "cells": [
    {
      "cell_type": "markdown",
      "metadata": {
        "id": "view-in-github",
        "colab_type": "text"
      },
      "source": [
        "<a href=\"https://colab.research.google.com/github/2021aim1014/Master-Thesis-Project/blob/main/Base_Paper_1_calibration_via_confusion_matrix.ipynb\" target=\"_parent\"><img src=\"https://colab.research.google.com/assets/colab-badge.svg\" alt=\"Open In Colab\"/></a>"
      ]
    },
    {
      "cell_type": "code",
      "source": [
        "!git clone https://github.com/GavinKerrigan/conf_matrix_and_calibration.git\n",
        "!mv /content/conf_matrix_and_calibration/cifar10h .\n",
        "!rm -R /content/conf_matrix_and_calibration\n",
        "!mkdir output"
      ],
      "metadata": {
        "colab": {
          "base_uri": "https://localhost:8080/"
        },
        "id": "def_afXDC2ar",
        "outputId": "71e0412b-35be-4a05-9eb2-89168737a5e9"
      },
      "execution_count": null,
      "outputs": [
        {
          "output_type": "stream",
          "name": "stdout",
          "text": [
            "Cloning into 'conf_matrix_and_calibration'...\n",
            "remote: Enumerating objects: 47, done.\u001b[K\n",
            "remote: Counting objects: 100% (47/47), done.\u001b[K\n",
            "remote: Compressing objects: 100% (43/43), done.\u001b[K\n",
            "remote: Total 47 (delta 14), reused 21 (delta 3), pack-reused 0\u001b[K\n",
            "Unpacking objects: 100% (47/47), done.\n"
          ]
        }
      ]
    },
    {
      "cell_type": "code",
      "source": [
        "!pip install attrdict deepdish pyro-ppl uncertainty-calibration"
      ],
      "metadata": {
        "colab": {
          "base_uri": "https://localhost:8080/"
        },
        "id": "8boWQl3zDNmN",
        "outputId": "1d0b8c28-ecb4-447b-be75-944c36a31e7e"
      },
      "execution_count": null,
      "outputs": [
        {
          "output_type": "stream",
          "name": "stdout",
          "text": [
            "Looking in indexes: https://pypi.org/simple, https://us-python.pkg.dev/colab-wheels/public/simple/\n",
            "Collecting attrdict\n",
            "  Downloading attrdict-2.0.1-py2.py3-none-any.whl (9.9 kB)\n",
            "Collecting deepdish\n",
            "  Downloading deepdish-0.3.7-py2.py3-none-any.whl (37 kB)\n",
            "Collecting pyro-ppl\n",
            "  Downloading pyro_ppl-1.8.3-py3-none-any.whl (727 kB)\n",
            "\u001b[K     |████████████████████████████████| 727 kB 16.2 MB/s \n",
            "\u001b[?25hCollecting uncertainty-calibration\n",
            "  Downloading uncertainty-calibration-0.1.4.tar.gz (15 kB)\n",
            "Requirement already satisfied: six in /usr/local/lib/python3.7/dist-packages (from attrdict) (1.15.0)\n",
            "Requirement already satisfied: scipy in /usr/local/lib/python3.7/dist-packages (from deepdish) (1.7.3)\n",
            "Requirement already satisfied: tables in /usr/local/lib/python3.7/dist-packages (from deepdish) (3.7.0)\n",
            "Requirement already satisfied: numpy in /usr/local/lib/python3.7/dist-packages (from deepdish) (1.21.6)\n",
            "Collecting pyro-api>=0.1.1\n",
            "  Downloading pyro_api-0.1.2-py3-none-any.whl (11 kB)\n",
            "Requirement already satisfied: tqdm>=4.36 in /usr/local/lib/python3.7/dist-packages (from pyro-ppl) (4.64.1)\n",
            "Requirement already satisfied: opt-einsum>=2.3.2 in /usr/local/lib/python3.7/dist-packages (from pyro-ppl) (3.3.0)\n",
            "Requirement already satisfied: torch>=1.11.0 in /usr/local/lib/python3.7/dist-packages (from pyro-ppl) (1.12.1+cu113)\n",
            "Requirement already satisfied: typing-extensions in /usr/local/lib/python3.7/dist-packages (from torch>=1.11.0->pyro-ppl) (4.1.1)\n",
            "Requirement already satisfied: scikit-learn in /usr/local/lib/python3.7/dist-packages (from uncertainty-calibration) (1.0.2)\n",
            "Collecting parameterized\n",
            "  Downloading parameterized-0.8.1-py2.py3-none-any.whl (26 kB)\n",
            "Requirement already satisfied: joblib>=0.11 in /usr/local/lib/python3.7/dist-packages (from scikit-learn->uncertainty-calibration) (1.2.0)\n",
            "Requirement already satisfied: threadpoolctl>=2.0.0 in /usr/local/lib/python3.7/dist-packages (from scikit-learn->uncertainty-calibration) (3.1.0)\n",
            "Requirement already satisfied: packaging in /usr/local/lib/python3.7/dist-packages (from tables->deepdish) (21.3)\n",
            "Requirement already satisfied: numexpr>=2.6.2 in /usr/local/lib/python3.7/dist-packages (from tables->deepdish) (2.8.4)\n",
            "Requirement already satisfied: pyparsing!=3.0.5,>=2.0.2 in /usr/local/lib/python3.7/dist-packages (from packaging->tables->deepdish) (3.0.9)\n",
            "Building wheels for collected packages: uncertainty-calibration\n",
            "  Building wheel for uncertainty-calibration (setup.py) ... \u001b[?25l\u001b[?25hdone\n",
            "  Created wheel for uncertainty-calibration: filename=uncertainty_calibration-0.1.4-py3-none-any.whl size=14223 sha256=8e969912e47298fb8434c1d924d8a243e5469a08f7abeb646199ae5c428b9918\n",
            "  Stored in directory: /root/.cache/pip/wheels/8c/6e/a8/0eae9b0286821f431bc25e4c604f1085e8504154af6b2c88aa\n",
            "Successfully built uncertainty-calibration\n",
            "Installing collected packages: pyro-api, parameterized, uncertainty-calibration, pyro-ppl, deepdish, attrdict\n",
            "Successfully installed attrdict-2.0.1 deepdish-0.3.7 parameterized-0.8.1 pyro-api-0.1.2 pyro-ppl-1.8.3 uncertainty-calibration-0.1.4\n"
          ]
        }
      ]
    },
    {
      "cell_type": "code",
      "source": [
        "from tqdm.auto import tqdm\n",
        "import torch, csv, os, numpy as np\n",
        "from torch import nn, optim\n",
        "from sklearn.model_selection import train_test_split"
      ],
      "metadata": {
        "id": "BwM-07UnDQb9"
      },
      "execution_count": null,
      "outputs": []
    },
    {
      "cell_type": "code",
      "source": [
        "import warnings\n",
        "from sklearn.metrics import confusion_matrix\n",
        "from attrdict import AttrDict\n",
        "from sklearn.cluster import KMeans "
      ],
      "metadata": {
        "id": "gAcxytGiDZkh"
      },
      "execution_count": null,
      "outputs": []
    },
    {
      "cell_type": "code",
      "source": [
        "class BaseCalibrator:\n",
        "    \"\"\" Abstract calibrator class\n",
        "    \"\"\"\n",
        "    def __init__(self):\n",
        "        self.n_classes = None\n",
        "\n",
        "    def fit(self, logits, y):\n",
        "        raise NotImplementedError\n",
        "\n",
        "    def calibrate(self, probs):\n",
        "        raise NotImplementedError"
      ],
      "metadata": {
        "id": "HIGNQpGYBOhg"
      },
      "execution_count": null,
      "outputs": []
    },
    {
      "cell_type": "code",
      "execution_count": null,
      "metadata": {
        "id": "zSuiAk0lAW2Q"
      },
      "outputs": [],
      "source": [
        "class TSCalibrator(BaseCalibrator):\n",
        "    \"\"\" Maximum likelihood temperature scaling (Guo et al., 2017)\n",
        "    \"\"\"\n",
        "\n",
        "    def __init__(self, temperature=1.):\n",
        "        super().__init__()\n",
        "        self.temperature = temperature\n",
        "\n",
        "        self.loss_trace = None\n",
        "\n",
        "    def fit(self, logits, y):\n",
        "        \"\"\" Fits temperature scaling using hard labels.\n",
        "        \"\"\"\n",
        "        # Pre-processing\n",
        "        self.n_classes = logits.shape[1]\n",
        "        _model_logits = torch.from_numpy(logits)\n",
        "        _y = torch.from_numpy(y)\n",
        "        _temperature = torch.tensor(self.temperature, requires_grad=True)\n",
        "\n",
        "        # Optimization parameters\n",
        "        nll = nn.CrossEntropyLoss()  # Supervised hard-label loss\n",
        "        num_steps = 7500\n",
        "        learning_rate = 0.05\n",
        "        grad_tol = 1e-3  # Gradient tolerance for early stopping\n",
        "        min_temp, max_temp = 1e-2, 1e4  # Upper / lower bounds on temperature\n",
        "\n",
        "        optimizer = optim.Adam([_temperature], lr=learning_rate)\n",
        "\n",
        "        loss_trace = []  # Track loss over iterations\n",
        "        step = 0\n",
        "        converged = False\n",
        "        while not converged:\n",
        "\n",
        "            optimizer.zero_grad()\n",
        "            loss = nll(_model_logits / _temperature, _y)\n",
        "            loss.backward()\n",
        "            optimizer.step()\n",
        "            loss_trace.append(loss.item())\n",
        "\n",
        "            with torch.no_grad():\n",
        "                _temperature.clamp_(min=min_temp, max=max_temp)\n",
        "\n",
        "            step += 1\n",
        "            if step > num_steps:\n",
        "                warnings.warn('Maximum number of steps reached -- may not have converged (TS)')\n",
        "            converged = (step > num_steps) or (np.abs(_temperature.grad) < grad_tol)\n",
        "\n",
        "        self.loss_trace = loss_trace\n",
        "        self.temperature = _temperature.item()\n",
        "\n",
        "    def calibrate(self, probs):\n",
        "        calibrated_probs = probs ** (1. / self.temperature)  # Temper\n",
        "        calibrated_probs /= np.sum(calibrated_probs, axis=1, keepdims=True)  # Normalize\n",
        "        return calibrated_probs"
      ]
    },
    {
      "cell_type": "code",
      "source": [
        "class OracleCombiner:\n",
        "    \"\"\" Implements the P+L combination method, fit using maximum likelihood\n",
        "    \"\"\"\n",
        "    def __init__(self, calibration_method='temperature scaling', **kwargs):\n",
        "        self.calibrator = None\n",
        "        self.confusion_matrix = None  # conf[i, j] is assumed to be P(h = i | Y = j)\n",
        "\n",
        "        self.n_train_u = None  # Amount of unlabeled training data\n",
        "        self.n_train_l = None  # Amount of labeled training data\n",
        "        self.n_cls = None  # Number of classes\n",
        "\n",
        "        self.eps = 1e-50\n",
        "\n",
        "        self.use_cv = False\n",
        "        self.calibration_method = calibration_method\n",
        "        self.calibrator = TSCalibrator()\n",
        "\n",
        "    def calibrate(self, model_probs):\n",
        "        return self.calibrator.calibrate(model_probs)\n",
        "\n",
        "    def fit(self, model_probs, y_h, y_true):\n",
        "        self.n_cls = model_probs.shape[1]\n",
        "\n",
        "        # Estimate human confusion matrix\n",
        "        # Entry [i, j]  is #(Y = i and h = j)\n",
        "        conf_h = 1. * confusion_matrix(y_true, y_h, labels=np.arange(self.n_cls))\n",
        "        # Swap so entry [i, j] is #(h = i and Y = j)\n",
        "        conf_h = conf_h.T\n",
        "        conf_h = np.clip(conf_h, self.eps, None)\n",
        "        normalizer = np.sum(conf_h, axis=0, keepdims=True)\n",
        "        # Normalize columns so entry [i, j] is P(h = i | Y = j)\n",
        "        conf_h /= normalizer\n",
        "        self.confusion_matrix = conf_h\n",
        "\n",
        "        self.fit_calibrator(model_probs, y_true)\n",
        "\n",
        "    def fit_calibrator(self, model_probs, y_true):\n",
        "        clipped_model_probs = np.clip(model_probs, self.eps, 1)\n",
        "        model_logits = np.log(clipped_model_probs)\n",
        "        self.calibrator.fit(model_logits, y_true)\n",
        "\n",
        "    def combine_proba(self, model_probs, y_h):\n",
        "        \"\"\" Combines model probabilities with hard labels via the calibrate-confuse equation given the confusion matrix.\n",
        "\n",
        "        Args:\n",
        "            p_m: Array of model probabilities ; shape (n_samples, n_classes)\n",
        "            y_h: List of hard labels ; shape (n_samples,)\n",
        "\n",
        "        Returns:\n",
        "            Normalized posterior probabilities P(Y | m, h). Entry [i, j] is P(Y = j | h_i, m_i)\n",
        "        \"\"\"\n",
        "        assert model_probs.shape[0] == y_h.size, 'Size mismatch between model probs and human labels'\n",
        "        assert model_probs.shape[1] == self.n_cls, 'Size mismatch between model probs and number of classes'\n",
        "\n",
        "        n_samples = model_probs.shape[0]\n",
        "        calibrated_model_probs = self.calibrate(model_probs)\n",
        "\n",
        "        y_comb = np.empty((n_samples, self.n_cls))\n",
        "        for i in range(n_samples):\n",
        "            y_comb[i] = calibrated_model_probs[i] * self.confusion_matrix[y_h[i]]\n",
        "            if np.allclose(y_comb[i], 0):  # Handle zero rows\n",
        "                y_comb[i] = np.ones(self.n_cls) * (1./self.n_cls)\n",
        "\n",
        "        # Don't forget to normalize :)\n",
        "        assert np.all(np.isfinite(np.sum(y_comb, axis=1)))\n",
        "        assert np.all(np.sum(y_comb, axis=1) > 0)\n",
        "        y_comb /= np.sum(y_comb, axis=1, keepdims=True)\n",
        "        return y_comb\n",
        "\n",
        "    def combine(self, model_probs, y_h):\n",
        "        \"\"\" Combines model probs and y_h to return hard labels\n",
        "        \"\"\"\n",
        "        y_comb_soft = self.combine_proba(model_probs, y_h)\n",
        "        return np.argmax(y_comb_soft, axis=1)"
      ],
      "metadata": {
        "id": "Suf7LdMKBaRn"
      },
      "execution_count": null,
      "outputs": []
    },
    {
      "cell_type": "code",
      "source": [
        "def get_acc(y_pred, y_true):\n",
        "    \"\"\" Computes the accuracy of predictions.\n",
        "    If y_pred is 2D, it is assumed that it is a matrix of scores (e.g. probabilities) of shape (n_samples, n_classes)\n",
        "    \"\"\"\n",
        "    if y_pred.ndim == 1:\n",
        "        return np.mean(y_pred == y_true)\n",
        "    elif y_pred.ndim == 2:\n",
        "        return np.mean(np.argmax(y_pred, axis=1), y_true)"
      ],
      "metadata": {
        "id": "H1SYtSOXCOSR"
      },
      "execution_count": null,
      "outputs": []
    },
    {
      "cell_type": "code",
      "source": [
        "def load_CIFAR10H(model_name):\n",
        "    \"\"\" Loads the CIFAR-10H predictions (human and model) and true labels.\n",
        "    \"\"\"\n",
        "    if model_name == 'r_low_acc':\n",
        "        data_path = 'cifar10h/human_model_truth_cifar10h.csv'\n",
        "        data = np.genfromtxt(data_path, delimiter=',')\n",
        "\n",
        "        human_counts = data[:, :10]\n",
        "        model_probs = data[:, 10:20]\n",
        "        true_labels = data[:, -1]\n",
        "\n",
        "        true_labels -= 1  # data has labels 1-10 -- shifting so that they are zero-indexed.\n",
        "    else:\n",
        "        data_path = f'cifar10h/{model_name}.csv'\n",
        "        data = np.genfromtxt(data_path, delimiter=',')\n",
        "\n",
        "        true_labels = data[:, 0]\n",
        "        human_counts = data[:, 1:11]\n",
        "        model_probs = data[:, 11:]\n",
        "\n",
        "    true_labels = true_labels.astype(int)\n",
        "\n",
        "    return human_counts, model_probs, true_labels"
      ],
      "metadata": {
        "id": "3WkkzVyhCOtE"
      },
      "execution_count": null,
      "outputs": []
    },
    {
      "cell_type": "code",
      "source": [
        "def simulate_single_human(human_counts, seed=0):\n",
        "    rng = np.random.default_rng(seed)\n",
        "\n",
        "    human_labels_per_input = np.sum(human_counts, axis=1)\n",
        "    min_human_labels = int(min(human_labels_per_input))\n",
        "    n_rows = human_counts.shape[0]\n",
        "    n_classes = human_counts.shape[1]\n",
        "\n",
        "    human_labels = np.empty(shape=(n_rows, min_human_labels))\n",
        "    for row in range(n_rows):\n",
        "        temp = []\n",
        "        for i in range(n_classes):\n",
        "            temp += [i] * int(human_counts[row, i])\n",
        "        rng.shuffle(temp)\n",
        "        human_labels[row, :] = temp[:min_human_labels]\n",
        "\n",
        "    return human_labels[:, 0].astype(int)"
      ],
      "metadata": {
        "id": "B4FAojqHCQeL"
      },
      "execution_count": null,
      "outputs": []
    },
    {
      "cell_type": "code",
      "source": [
        "class_wise_acc = {}\n",
        "\n",
        "def _run_experiment(model_name, y_h=None, model_probs=None, y_true=None, **kwargs):\n",
        "    seed = kwargs.pop('seed', 0)\n",
        "    n_runs = kwargs.pop('n_runs', 25)\n",
        "    test_size = kwargs.pop('test_size', 0.3)\n",
        "    calibration_methods = kwargs.pop('calibration_methods', ['none'])\n",
        "    output_file_acc = kwargs.pop('output_file_acc', './acc.csv')\n",
        "\n",
        "    acc_data = []\n",
        "    for i in range(n_runs):\n",
        "        # Train/test split\n",
        "        y_h_tr, y_h_te, model_probs_tr, model_probs_te, y_true_tr, y_true_te = train_test_split(\n",
        "            y_h, model_probs, y_true, test_size=test_size, random_state=i * seed)\n",
        "\n",
        "        acc_h = get_acc(y_h_te, y_true_te)\n",
        "        model_output_te = np.argmax(model_probs_te, axis=1)\n",
        "        acc_m = get_acc(model_output_te, y_true_te)\n",
        "        class_wise_acc[model_name] = print_classwise_accuracy(y_true_te, model_output_te)\n",
        "        class_wise_acc['human_'+model_name] = print_classwise_accuracy(y_true_te, y_h_te)\n",
        "        _acc_data = [acc_h, acc_m]\n",
        "        for calibration_method in calibration_methods:\n",
        "            \n",
        "            combiner = OracleCombiner(calibration_method=calibration_method)\n",
        "\n",
        "            combiner.fit(model_probs_tr, y_h_tr, y_true_tr)\n",
        "\n",
        "            y_comb_te = combiner.combine(model_probs_te, y_h_te)\n",
        "            acc_comb = get_acc(y_comb_te, y_true_te)\n",
        "            _acc_data.append(acc_comb)\n",
        "            class_wise_acc[\"comb_\"+model_name] = print_classwise_accuracy(y_true_te, y_comb_te)\n",
        "\n",
        "        acc_data += [_acc_data]\n",
        "\n",
        "    # Save data to CSV\n",
        "    header_acc = ['human', 'model'] + [f'comb {cal_m}' for cal_m in calibration_methods]\n",
        "    with open(output_file_acc, 'w', newline='') as f:\n",
        "        writer = csv.writer(f)\n",
        "        writer.writerow(header_acc)\n",
        "        writer.writerows(acc_data)"
      ],
      "metadata": {
        "id": "jkQkL2IsCSU0"
      },
      "execution_count": null,
      "outputs": []
    },
    {
      "cell_type": "code",
      "source": [
        "def write_classwise_accuray_to_file():\n",
        "    # write classwise accuracy of model and combined model to file\n",
        "    model_names = []\n",
        "    class_wise_acc_list = []\n",
        "    for model_name, acc in class_wise_acc.items():\n",
        "        model_names.append(model_name)\n",
        "        class_wise_acc_list.append(list(acc.values()))\n",
        "\n",
        "    model_names = np.array(model_names).reshape((12, 1))\n",
        "    class_wise_acc_list = np.array(class_wise_acc_list)\n",
        "    acc_data = np.append(model_names, class_wise_acc_list, axis=1)\n",
        "    output_file_acc = out_fpath + \"Classwise_Accuracy.csv\"\n",
        "    header_acc = ('Model Name', 'plane', 'car', 'bird', 'cat', 'deer', 'dog', 'frog', 'horse', 'ship', 'truck')\n",
        "    with open(output_file_acc, 'w', newline='') as f:\n",
        "        writer = csv.writer(f)\n",
        "        writer.writerow(header_acc)\n",
        "        writer.writerows(acc_data)"
      ],
      "metadata": {
        "id": "cDMpPlBqX2O0"
      },
      "execution_count": null,
      "outputs": []
    },
    {
      "cell_type": "code",
      "source": [
        "def run_experiment_cifar10(out_fpath=None, experiment_args=None, seed=0):\n",
        "    model_names = ['r_low_acc', \n",
        "                   'resnet-110', 'preresnet-110', 'densenet-bc-L190-k40'\n",
        "                   ]\n",
        "\n",
        "    for model_name in tqdm(model_names, desc='Models', leave=True):\n",
        "        # Specify output files\n",
        "        output_file_acc = out_fpath + f'{model_name}_accuracy.csv'\n",
        "        assert not os.path.exists(output_file_acc), 'Output filepath already exists'\n",
        "        experiment_args['output_file_acc'] = output_file_acc\n",
        "\n",
        "        # Load data\n",
        "        human_counts, model_probs, y_true = load_CIFAR10H(model_name) # data_utils.py\n",
        "        y_h = simulate_single_human(human_counts, seed=seed)\n",
        "\n",
        "        _run_experiment(model_name, y_h=y_h, model_probs=model_probs, y_true=y_true, **experiment_args)\n",
        "\n",
        "    write_classwise_accuray_to_file()"
      ],
      "metadata": {
        "id": "-GZcSb7hCxyL"
      },
      "execution_count": null,
      "outputs": []
    },
    {
      "cell_type": "code",
      "source": [
        "def print_classwise_accuracy(y_true, y_pred):\n",
        "    classes = ('plane', 'car', 'bird', 'cat', 'deer', 'dog', 'frog', 'horse', 'ship', 'truck')\n",
        "    result = {}\n",
        "    # prepare to count predictions for each class\n",
        "    correct_pred = {classname: 0 for classname in classes}\n",
        "    total_pred = {classname: 0 for classname in classes}\n",
        "\n",
        "    for label, prediction in zip(y_true, y_pred):\n",
        "        if label == prediction:\n",
        "            correct_pred[classes[label]] += 1\n",
        "        total_pred[classes[label]] += 1\n",
        "\n",
        "\n",
        "    # print accuracy for each class\n",
        "    for classname, correct_count in correct_pred.items():\n",
        "        accuracy = 100 * float(correct_count) / total_pred[classname]\n",
        "        result[classname] = round(accuracy, 1)\n",
        "    return result"
      ],
      "metadata": {
        "id": "tnkA8m7WHzDh"
      },
      "execution_count": null,
      "outputs": []
    },
    {
      "cell_type": "code",
      "source": [
        "seed = 9658\n",
        "torch.manual_seed(seed)\n",
        "np.random.seed(seed)\n",
        "\n",
        "calibration_methods = [\n",
        "    'temperature scaling'\n",
        "    ]\n",
        "\n",
        "args = {\n",
        "    'n_runs': 1,\n",
        "    'test_size': 0.3,\n",
        "    'calibration_methods': calibration_methods,\n",
        "    'seed': seed\n",
        "        }\n"
      ],
      "metadata": {
        "id": "uqZajayHC0Lw"
      },
      "execution_count": null,
      "outputs": []
    },
    {
      "cell_type": "code",
      "source": [
        "!rm -R output\n",
        "!mkdir output\n",
        "!rm -R sample_data"
      ],
      "metadata": {
        "id": "SG5Ye41KC4Vb"
      },
      "execution_count": null,
      "outputs": []
    },
    {
      "cell_type": "code",
      "source": [
        "out_fpath = './output/'\n",
        "run_experiment_cifar10(out_fpath=out_fpath, experiment_args=args, seed=seed)"
      ],
      "metadata": {
        "colab": {
          "base_uri": "https://localhost:8080/",
          "height": 49,
          "referenced_widgets": [
            "3379eb555d4e4766b4c47c6062c1f116",
            "2c8a427497064f3a9f76a001fa151e8e",
            "84674b75b18142ed800679cfb688b061",
            "62d9ea75f04e4121bc1fc55f144feb9e",
            "079e9a9285704c898bab387870cac0d0",
            "1ae26525819f4dc4bbe84d2f870ca2c1",
            "e1dc221db9eb4e598ad0973fc3ebb258",
            "bd90c984883e42f1b54062a321be97ea",
            "09561068385a4f11964ee419f9ac23ec",
            "e8de1eadfff34b3aa4dc03c7c73436e3",
            "3bda4d46c96f4e5eb542093c6b377087"
          ]
        },
        "id": "cTJTS3_-C6Ih",
        "outputId": "1aadb3bd-491a-4cc8-9db0-2bc2f0a4631f"
      },
      "execution_count": null,
      "outputs": [
        {
          "output_type": "display_data",
          "data": {
            "text/plain": [
              "Models:   0%|          | 0/4 [00:00<?, ?it/s]"
            ],
            "application/vnd.jupyter.widget-view+json": {
              "version_major": 2,
              "version_minor": 0,
              "model_id": "3379eb555d4e4766b4c47c6062c1f116"
            }
          },
          "metadata": {}
        }
      ]
    },
    {
      "cell_type": "code",
      "source": [
        "import pandas as pd\n",
        "\n",
        "df1 = pd.read_csv('/content/output/r_low_acc_accuracy.csv')\n",
        "df2 = pd.read_csv('/content/output/resnet-110_accuracy.csv')\n",
        "df3 = pd.read_csv('/content/output/preresnet-110_accuracy.csv')\n",
        "df4 = pd.read_csv('/content/output/densenet-bc-L190-k40_accuracy.csv')\n",
        "\n",
        "df_all_cols = pd.concat([df1, df2, df3, df4], axis = 0)\n",
        "df_all_cols['Model Name'] = ['ResNet-110', 'ResNet-164', 'PreResNet-164', 'DenseNet-BC']\n",
        "df_all_cols = df_all_cols[['Model Name', 'human', 'model', 'comb temperature scaling']]\n",
        "df_all_cols.to_csv('output/paper_results.csv')"
      ],
      "metadata": {
        "id": "qa_j9oBCDwlb"
      },
      "execution_count": null,
      "outputs": []
    },
    {
      "cell_type": "code",
      "source": [
        "!rm /content/output/r_low_acc_accuracy.csv\n",
        "!rm /content/output/resnet-110_accuracy.csv\n",
        "!rm /content/output/preresnet-110_accuracy.csv\n",
        "!rm /content/output/densenet-bc-L190-k40_accuracy.csv"
      ],
      "metadata": {
        "id": "E6rFinC0GIlM"
      },
      "execution_count": null,
      "outputs": []
    },
    {
      "cell_type": "code",
      "source": [],
      "metadata": {
        "id": "SaO4eVfqclIM"
      },
      "execution_count": null,
      "outputs": []
    }
  ]
}